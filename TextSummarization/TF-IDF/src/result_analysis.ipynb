{
 "cells": [
  {
   "cell_type": "markdown",
   "metadata": {},
   "source": [
    "# TextRank"
   ]
  },
  {
   "cell_type": "code",
   "execution_count": 163,
   "metadata": {},
   "outputs": [],
   "source": [
    "def analyze_raw(res_list):\n",
    "    rouge1 = 0\n",
    "    rouge2 = 0\n",
    "    rougel = 0\n",
    "    for l in res_list:\n",
    "        rouge1 += float(l.split()[0])\n",
    "        rouge2 += float(l.split()[1])\n",
    "        rougel += float(l.split()[2])\n",
    "    rouge1 /= len(res_list)\n",
    "    rouge2 /= len(res_list)\n",
    "    rougel /= len(res_list)\n",
    "    return (rouge1, rouge2, rougel)\n",
    "\n",
    "def analyze_nan_stripped(res_list):\n",
    "    valid = 0\n",
    "    rouge1 = 0\n",
    "    rouge2 = 0\n",
    "    rougel = 0\n",
    "    for l in res_list:\n",
    "        if '0' not in l.split():\n",
    "            rouge1 += float(l.split()[0])\n",
    "            rouge2 += float(l.split()[1])\n",
    "            rougel += float(l.split()[2])\n",
    "            valid += 1\n",
    "    if valid != 0:\n",
    "        rouge1 /= valid\n",
    "        rouge2 /= valid\n",
    "        rougel /= valid\n",
    "    else:\n",
    "        rouge1 = 1e-5\n",
    "        rouge2 = 1e-5\n",
    "        rougel = 1e-5\n",
    "        \n",
    "    return (rouge1, rouge2, rougel)"
   ]
  },
  {
   "cell_type": "code",
   "execution_count": 15,
   "metadata": {},
   "outputs": [
    {
     "name": "stdout",
     "output_type": "stream",
     "text": [
      "0.39915021244688825\n",
      "0.24631334364202095\n",
      "0.11373737311696273\n",
      "0.21892589067786652\n"
     ]
    }
   ],
   "source": [
    "rankres = list()\n",
    "with open('rankres.txt', 'r') as f:\n",
    "    rankres = f.readlines()\n",
    "\n",
    "cnt = 0\n",
    "for l in rankres:\n",
    "    if '0' in l.split():\n",
    "        cnt += 1\n",
    "print(cnt / len(rankres))\n",
    "\n",
    "\n",
    "rouge1 = 0\n",
    "rouge2 = 0\n",
    "rougel = 0\n",
    "for l in rankres:\n",
    "    if '0' in l.split():\n",
    "        continue\n",
    "    rouge1 += float(l.split()[0])\n",
    "    rouge2 += float(l.split()[1])\n",
    "    rougel += float(l.split()[2])\n",
    "rouge1 /= (len(rankres) - cnt)\n",
    "rouge2 /= (len(rankres) - cnt)\n",
    "rougel /= (len(rankres) - cnt)\n",
    "\n",
    "print(rouge1)\n",
    "print(rouge2)\n",
    "print(rougel)"
   ]
  },
  {
   "cell_type": "markdown",
   "metadata": {},
   "source": [
    "# TF-IDF"
   ]
  },
  {
   "cell_type": "code",
   "execution_count": 147,
   "metadata": {
    "scrolled": true
   },
   "outputs": [
    {
     "name": "stdout",
     "output_type": "stream",
     "text": [
      "| 0.7 | 0.393 | 0.245 | 0.393 | \n",
      "\n",
      "(0.002427456738878906, 1.5323550064864736e-05, 0.002424252411755559)\t(0.3925925925925926, 0.24523809523809526, 0.3925925925925926)\n",
      "| 0.6 | 0.296 | 0.164 | 0.296 | \n",
      "\n",
      "(0.004373732039469458, 2.7377576740236073e-05, 0.004353059447877097)\t(0.29642318465847883, 0.1643065268065268, 0.29642318465847883)\n",
      "| 0.5 | 0.257 | 0.136 | 0.257 | \n",
      "\n",
      "(0.004679150612112026, 3.3959216430432994e-05, 0.0046394249155662075)\t(0.25667395613216054, 0.1358708249381624, 0.25667395613216054)\n",
      "| 0.4 | 0.210 | 0.116 | 0.210 | \n",
      "\n",
      "(0.004382822762011809, 3.3950518701285515e-05, 0.004343105379095869)\t(0.2100354692879163, 0.11643087884900859, 0.2100354692879163)\n",
      "| 0.3 | 0.184 | 0.097 | 0.184 | \n",
      "\n",
      "(0.004010115592652738, 3.451658912436167e-05, 0.003964242795574001)\t(0.18424926593724547, 0.09748296923757956, 0.18424926593724547)\n",
      "| 0.2 | 0.164 | 0.084 | 0.164 | \n",
      "\n",
      "(0.003650341237885415, 3.502647347605023e-05, 0.003603023754323347)\t(0.16409781723849, 0.08408455222660619, 0.16409781723849)\n",
      "| 0.1 | 0.144 | 0.073 | 0.144 | \n",
      "\n",
      "(0.0033112505598845185, 3.203527044766919e-05, 0.003266404402038928)\t(0.14402956575967868, 0.07324178117778539, 0.14402956575967868)\n"
     ]
    }
   ],
   "source": [
    "log_res = [list() for i in range(8)]\n",
    "\n",
    "for i in range(1, 8):\n",
    "    with open('./tfidf_res/log_res0.{}'.format(i), 'r') as f:\n",
    "        log_res[i] = f.readlines()\n",
    "# print(analyze_raw(log_res[1]))\n",
    "# print(analyze_nan_stripped(log_res[1]))\n",
    "for i in range(1, 8):\n",
    "    print('| ' + '0.{}'.format(8 - i), end=' | ')\n",
    "    for score in analyze_nan_stripped(log_res[i]):\n",
    "        print(\"%.3f\" % (score), end=' | ')\n",
    "    print('\\n')\n",
    "    print(analyze_raw(log_res[i]), end='\\t')\n",
    "    print(analyze_nan_stripped(log_res[i]))"
   ]
  },
  {
   "cell_type": "code",
   "execution_count": 148,
   "metadata": {},
   "outputs": [
    {
     "name": "stdout",
     "output_type": "stream",
     "text": [
      "(0.0010964605159806352, 0.0, 0.0010922948907202837)\t(1e-05, 1e-05, 1e-05)\n",
      "(0.0020600216627593452, 7.258286438491388e-06, 0.0020600216627593452)\t(0.2967032967032967, 0.17424242424242425, 0.2967032967032967)\n",
      "(0.0027292636340534074, 1.1178344536181549e-05, 0.002717045965723452)\t(0.23645510835913314, 0.13417366946778714, 0.23645510835913314)\n",
      "(0.0030568830475763077, 1.537920534854738e-05, 0.0030411996866966367)\t(0.19066959701153882, 0.10548377245635097, 0.19066959701153882)\n",
      "(0.003150257339696786, 2.359970313415389e-05, 0.003128912754293938)\t(0.17234104850428264, 0.09442241223974972, 0.17234104850428264)\n",
      "(0.003093107384035073, 3.3494091687447614e-05, 0.0030669735680653788)\t(0.16540234397979672, 0.0846378068472492, 0.16540234397979672)\n",
      "(0.20639667599644404, 0.062021497332455315, 0.18721187300705538)\t(0.2806046763878998, 0.1234466370803737, 0.2576788515378733)\n",
      "| 0.7 | 0.000 | 0.000 | 0.000 | \n",
      "\n",
      "| 0.6 | 0.297 | 0.174 | 0.297 | \n",
      "\n",
      "| 0.5 | 0.236 | 0.134 | 0.236 | \n",
      "\n",
      "| 0.4 | 0.191 | 0.105 | 0.191 | \n",
      "\n",
      "| 0.3 | 0.172 | 0.094 | 0.172 | \n",
      "\n",
      "| 0.2 | 0.165 | 0.085 | 0.165 | \n",
      "\n",
      "| 0.1 | 0.281 | 0.123 | 0.258 | \n",
      "\n"
     ]
    }
   ],
   "source": [
    "naive_res = [list() for i in range(8)]\n",
    "\n",
    "for i in range(1, 8):\n",
    "    with open('./tfidf_res/naive_res0.{}'.format(i), 'r') as f:\n",
    "        naive_res[i] = f.readlines()\n",
    "# print(analyze_raw(log_res[1]))\n",
    "# print(analyze_nan_stripped(log_res[1]))\n",
    "\n",
    "for i in range(1, 8):\n",
    "    print(analyze_raw(naive_res[i]), end='\\t')\n",
    "    print(analyze_nan_stripped(naive_res[i]))\n",
    "\n",
    "for i in range(1, 8):\n",
    "    print('| ' + '0.{}'.format(8 - i), end=' | ')\n",
    "    for score in analyze_nan_stripped(naive_res[i]):\n",
    "        print(\"%.3f\" % (score), end=' | ')\n",
    "    print('\\n')"
   ]
  },
  {
   "cell_type": "markdown",
   "metadata": {},
   "source": [
    "# Improved-TF-IDF"
   ]
  },
  {
   "cell_type": "code",
   "execution_count": 149,
   "metadata": {},
   "outputs": [
    {
     "name": "stdout",
     "output_type": "stream",
     "text": [
      "(0.005020599823094057, 0.0001098635689987852, 0.00499585506578244)\t(0.3700999483608178, 0.2293378119465076, 0.3700999483608178)\n",
      "(0.005345897028752258, 7.671665988704375e-05, 0.005303321208245921)\t(0.2946178856325211, 0.1674236488407611, 0.2946178856325211)\n",
      "(0.005085268165979294, 6.26054573529392e-05, 0.005025802405358855)\t(0.24677043802430806, 0.13662787356496897, 0.24677043802430806)\n",
      "(0.0045984176626924665, 5.515731921427745e-05, 0.004532722879743717)\t(0.22124759444513992, 0.11513970478764735, 0.2166709354062383)\n",
      "(0.004134272642511284, 4.979411150762826e-05, 0.004072413379528001)\t(0.19345734298454922, 0.09961312007101035, 0.18966946419667044)\n",
      "(0.0037566900947615138, 4.8767313821287745e-05, 0.0036944203629507002)\t(0.16926705124520194, 0.08671912115509878, 0.16630408828223897)\n",
      "(0.003433771656248991, 4.450274950669018e-05, 0.0033753884282439438)\t(0.15231070576400077, 0.07630950033268603, 0.14759518319133533)\n",
      "| 0.7 | 0.370 | 0.229 | 0.370 | \n",
      "\n",
      "| 0.6 | 0.295 | 0.167 | 0.295 | \n",
      "\n",
      "| 0.5 | 0.247 | 0.137 | 0.247 | \n",
      "\n",
      "| 0.4 | 0.221 | 0.115 | 0.217 | \n",
      "\n",
      "| 0.3 | 0.193 | 0.100 | 0.190 | \n",
      "\n",
      "| 0.2 | 0.169 | 0.087 | 0.166 | \n",
      "\n",
      "| 0.1 | 0.152 | 0.076 | 0.148 | \n",
      "\n"
     ]
    }
   ],
   "source": [
    "imp_log_res = [list() for i in range(8)]\n",
    "\n",
    "for i in range(1, 8):\n",
    "    with open('./tfidf_impro_res/log_res0.{}'.format(i), 'r') as f:\n",
    "        imp_log_res[i] = f.readlines()\n",
    "# print(analyze_raw(log_res[1]))\n",
    "# print(analyze_nan_stripped(log_res[1]))\n",
    "for i in range(1, 8):\n",
    "    print(analyze_raw(imp_log_res[i]), end='\\t')\n",
    "    print(analyze_nan_stripped(imp_log_res[i]))\n",
    "\n",
    "for i in range(1, 8):\n",
    "    print('| ' + '0.{}'.format(8 - i), end=' | ')\n",
    "    for score in analyze_nan_stripped(imp_log_res[i]):\n",
    "        print(\"%.3f\" % (score), end=' | ')\n",
    "    print('\\n')"
   ]
  },
  {
   "cell_type": "code",
   "execution_count": 151,
   "metadata": {},
   "outputs": [
    {
     "name": "stdout",
     "output_type": "stream",
     "text": [
      "(0.0022197490642879452, 4.628472511501754e-06, 0.0022151205917764435)\t(0.3636363636363636, 0.2222222222222222, 0.3636363636363636)\n",
      "(0.0032897754381131816, 1.7769450411289953e-05, 0.0032777191573115875)\t(0.29128205128205126, 0.1706293706293706, 0.29128205128205126)\n",
      "(0.0037414488667736837, 3.840398704917869e-05, 0.003718715896806354)\t(0.2581330050965679, 0.14183478663116672, 0.2581330050965679)\n",
      "(0.0037282419397614407, 5.049127924722124e-05, 0.0036934632648559828)\t(0.20825642760480437, 0.11019033178261756, 0.2034717386095891)\n",
      "(0.0035530007835133898, 5.16823377645279e-05, 0.003509931585847993)\t(0.18538332982147512, 0.0954374000288659, 0.1818868263249716)\n",
      "(0.0033817578022922426, 4.5297636420455456e-05, 0.0033299015446642175)\t(0.16428675183660285, 0.08364731230072721, 0.16120982875967976)\n",
      "(0.207727637542522, 0.06275775752956234, 0.18852668983797097)\t(0.28173085616422544, 0.12392699872185618, 0.2588097550699172)\n",
      "| 0.7 | 0.364 | 0.222 | 0.364 | \n",
      "\n",
      "| 0.6 | 0.291 | 0.171 | 0.291 | \n",
      "\n",
      "| 0.5 | 0.258 | 0.142 | 0.258 | \n",
      "\n",
      "| 0.4 | 0.208 | 0.110 | 0.203 | \n",
      "\n",
      "| 0.3 | 0.185 | 0.095 | 0.182 | \n",
      "\n",
      "| 0.2 | 0.164 | 0.084 | 0.161 | \n",
      "\n",
      "| 0.1 | 0.282 | 0.124 | 0.259 | \n",
      "\n"
     ]
    }
   ],
   "source": [
    "imp_naive_res = [list() for i in range(8)]\n",
    "\n",
    "for i in range(1, 8):\n",
    "    with open('./tfidf_impro_res/naive_res0.{}'.format(i), 'r') as f:\n",
    "        imp_naive_res[i] = f.readlines()\n",
    "# print(analyze_raw(log_res[1]))\n",
    "# print(analyze_nan_stripped(log_res[1]))\n",
    "for i in range(1, 8):\n",
    "    print(analyze_raw(imp_naive_res[i]), end='\\t')\n",
    "    print(analyze_nan_stripped(imp_naive_res[i]))\n",
    "for i in range(1, 8):\n",
    "    print('| ' + '0.{}'.format(8 - i), end=' | ')\n",
    "    for score in analyze_nan_stripped(imp_naive_res[i]):\n",
    "        print(\"%.3f\" % (score), end=' | ')\n",
    "    print('\\n')"
   ]
  },
  {
   "cell_type": "code",
   "execution_count": 134,
   "metadata": {},
   "outputs": [
    {
     "data": {
      "text/plain": [
       "<Figure size 2880x2160 with 0 Axes>"
      ]
     },
     "execution_count": 134,
     "metadata": {},
     "output_type": "execute_result"
    },
    {
     "data": {
      "text/plain": [
       "(array([ 0.        ,  0.        ,  0.        ,  0.        ,  0.        ,\n",
       "         0.        ,  0.        ,  0.        ,  0.        ,  0.        ,\n",
       "         0.        ,  0.        ,  0.        ,  0.        ,  0.        ,\n",
       "         0.        ,  0.        ,  0.        ,  0.        ,  0.        ,\n",
       "         0.        ,  0.        ,  0.        ,  0.        ,  0.        ,\n",
       "         0.        ,  0.        ,  0.        ,  0.        ,  0.        ,\n",
       "         0.        ,  0.        ,  0.        ,  0.        ,  0.        ,\n",
       "         0.        ,  0.        ,  0.        ,  0.        ,  0.        ,\n",
       "         0.        ,  0.        ,  0.        ,  0.        ,  0.        ,\n",
       "         0.        ,  0.        ,  0.        ,  0.        ,  0.        ,\n",
       "         0.        ,  0.        ,  0.        ,  0.        ,  0.        ,\n",
       "         1.77619893,  0.        ,  0.        ,  0.        ,  0.        ,\n",
       "         0.        ,  0.        ,  5.3285968 ,  0.        ,  0.        ,\n",
       "         0.        , 10.65719361,  0.        ,  0.        ,  0.        ,\n",
       "         0.        , 18.65008881,  0.        ,  0.        ,  0.        ,\n",
       "         0.        , 50.62166963,  0.        ,  0.        ,  0.        ,\n",
       "         0.        ,  0.        ,  0.        , 53.28596803,  0.        ,\n",
       "         0.        ,  0.        ,  0.        ,  0.        ,  0.        ,\n",
       "        86.14564831,  0.        ,  0.        ,  0.        ,  0.        ,\n",
       "         0.        ,  0.        ,  0.        ,  0.        ,  5.3285968 ,\n",
       "        79.92895204,  0.        ,  0.        ,  0.        ,  0.        ,\n",
       "         0.        ,  0.        ,  0.        ,  0.        ,  0.        ,\n",
       "         0.        , 74.60035524,  0.        ,  0.        ,  0.        ,\n",
       "         0.        ,  0.        ,  0.        ,  0.        ,  0.        ,\n",
       "         0.        ,  0.        ,  0.        ,  0.        ,  0.        ,\n",
       "        52.39786856,  0.        ,  0.        ,  0.        ,  0.        ,\n",
       "         0.        ,  0.        ,  0.        ,  0.        ,  0.        ,\n",
       "         0.        ,  0.        ,  0.        ,  0.        ,  0.        ,\n",
       "         0.        ,  0.        , 34.63587922,  0.        ,  0.        ,\n",
       "         0.        ,  0.        ,  0.        ,  0.        ,  0.        ,\n",
       "         0.        ,  0.        ,  0.        ,  0.88809947,  0.        ,\n",
       "         0.        ,  0.        ,  0.        ,  0.        ,  0.        ,\n",
       "         0.        ,  0.        ,  0.        ,  0.        ,  0.        ,\n",
       "         0.        , 15.09769094,  0.        ,  0.        ,  0.        ,\n",
       "         0.        ,  0.        ,  0.        ,  0.        ,  0.        ,\n",
       "         0.        ,  0.        ,  0.        ,  0.        ,  0.        ,\n",
       "         0.        ,  2.6642984 ,  0.        ,  0.        ,  0.        ,\n",
       "         0.        ,  0.        ,  0.        ,  0.        ,  0.        ,\n",
       "         0.        ,  0.        ,  0.        ,  0.        ,  0.        ,\n",
       "         0.        ,  0.        ,  0.        ,  0.        ,  0.        ,\n",
       "         6.21669627,  0.        ,  0.        ,  0.        ,  0.        ,\n",
       "         0.        ,  0.        ,  0.        ,  0.        ,  0.        ,\n",
       "         0.        ,  0.        ,  0.        ,  0.        ,  0.        ,\n",
       "         0.        ,  0.        ,  0.        ,  0.        ,  0.        ,\n",
       "         0.        ,  0.        ,  0.88809947,  0.        ,  0.        ,\n",
       "         0.        ,  0.        ,  0.        ,  0.        ,  0.        ,\n",
       "         0.        ,  0.        ,  0.        ,  0.        ,  0.        ,\n",
       "         0.        ,  0.        ,  0.        ,  0.        ,  0.        ,\n",
       "         0.        ,  0.        ,  0.        ,  0.        ,  0.        ,\n",
       "         0.        ,  0.        ,  0.        ,  0.        ,  0.        ,\n",
       "         0.88809947,  0.        ,  0.        ,  0.        ,  0.        ,\n",
       "         0.        ,  0.        ,  0.        ,  0.        ,  0.        ,\n",
       "         0.        ,  0.        ,  0.        ,  0.        ,  0.        ,\n",
       "         0.        ,  0.        ,  0.        ,  0.        ,  0.        ,\n",
       "         0.        ,  0.        ,  0.        ,  0.        ,  0.        ,\n",
       "         0.        ,  0.        ,  0.        ,  0.        ,  0.        ,\n",
       "         0.        ,  0.        ,  0.        ,  0.        ,  0.        ,\n",
       "         0.        ,  0.        ,  0.        ,  0.        ,  0.        ,\n",
       "         0.        ,  0.        ,  0.        ,  0.        ,  0.        ,\n",
       "         0.        ,  0.        ,  0.        ,  0.        ,  0.        ,\n",
       "         0.        ,  0.        ,  0.        ,  0.        ,  0.        ,\n",
       "         0.        ,  0.        ,  0.        ,  0.        ,  0.        ,\n",
       "         0.        ,  0.        ,  0.        ,  0.        ,  0.        ,\n",
       "         0.        ,  0.        ,  0.        ,  0.        ,  0.        ,\n",
       "         0.        ,  0.        ,  0.        ,  0.        ,  0.        ,\n",
       "         0.        ,  0.        ,  0.        ,  0.        ,  0.        ,\n",
       "         0.        ,  0.        ,  0.        ,  0.        ,  0.        ,\n",
       "         0.        ,  0.        ,  0.        ,  0.        ,  0.        ,\n",
       "         0.        ,  0.        ,  0.        ,  0.        ,  0.        ,\n",
       "         0.        ,  0.        ,  0.        ,  0.        ,  0.        ,\n",
       "         0.        ,  0.        ,  0.        ,  0.        ,  0.        ,\n",
       "         0.        ,  0.        ,  0.        ,  0.        ,  0.        ,\n",
       "         0.        ,  0.        ,  0.        ,  0.        ,  0.        ,\n",
       "         0.        ,  0.        ,  0.        ,  0.        ,  0.        ,\n",
       "         0.        ,  0.        ,  0.        ,  0.        ,  0.        ,\n",
       "         0.        ,  0.        ,  0.        ,  0.        ,  0.        ,\n",
       "         0.        ,  0.        ,  0.        ,  0.        ,  0.        ,\n",
       "         0.        ,  0.        ,  0.        ,  0.        ,  0.        ,\n",
       "         0.        ,  0.        ,  0.        ,  0.        ,  0.        ,\n",
       "         0.        ,  0.        ,  0.        ,  0.        ,  0.        ,\n",
       "         0.        ,  0.        ,  0.        ,  0.        ,  0.        ,\n",
       "         0.        ,  0.        ,  0.        ,  0.        ,  0.        ,\n",
       "         0.        ,  0.        ,  0.        ,  0.        ,  0.        ,\n",
       "         0.        ,  0.        ,  0.        ,  0.        ,  0.        ,\n",
       "         0.        ,  0.        ,  0.        ,  0.        ,  0.        ,\n",
       "         0.        ,  0.        ,  0.        ,  0.        ,  0.        ,\n",
       "         0.        ,  0.        ,  0.        ,  0.        ,  0.        ,\n",
       "         0.        ,  0.        ,  0.        ,  0.        ,  0.        ,\n",
       "         0.        ,  0.        ,  0.        ,  0.        ,  0.        ,\n",
       "         0.        ,  0.        ,  0.        ,  0.        ,  0.        ,\n",
       "         0.        ,  0.        ,  0.        ,  0.        ,  0.        ,\n",
       "         0.        ,  0.        ,  0.        ,  0.        ,  0.        ,\n",
       "         0.        ,  0.        ,  0.        ,  0.        ,  0.        ,\n",
       "         0.        ,  0.        ,  0.        ,  0.        ,  0.        ,\n",
       "         0.        ,  0.        ,  0.        ,  0.        ,  0.        ,\n",
       "         0.        ,  0.        ,  0.        ,  0.        ,  0.        ,\n",
       "         0.        ,  0.        ,  0.        ,  0.        ,  0.        ,\n",
       "         0.        ,  0.        ,  0.        ,  0.        ,  0.        ,\n",
       "         0.        ,  0.        ,  0.        ,  0.        ,  0.        ,\n",
       "         0.        ,  0.        ,  0.        ,  0.        ]),\n",
       " array([0.   , 0.002, 0.004, 0.006, 0.008, 0.01 , 0.012, 0.014, 0.016,\n",
       "        0.018, 0.02 , 0.022, 0.024, 0.026, 0.028, 0.03 , 0.032, 0.034,\n",
       "        0.036, 0.038, 0.04 , 0.042, 0.044, 0.046, 0.048, 0.05 , 0.052,\n",
       "        0.054, 0.056, 0.058, 0.06 , 0.062, 0.064, 0.066, 0.068, 0.07 ,\n",
       "        0.072, 0.074, 0.076, 0.078, 0.08 , 0.082, 0.084, 0.086, 0.088,\n",
       "        0.09 , 0.092, 0.094, 0.096, 0.098, 0.1  , 0.102, 0.104, 0.106,\n",
       "        0.108, 0.11 , 0.112, 0.114, 0.116, 0.118, 0.12 , 0.122, 0.124,\n",
       "        0.126, 0.128, 0.13 , 0.132, 0.134, 0.136, 0.138, 0.14 , 0.142,\n",
       "        0.144, 0.146, 0.148, 0.15 , 0.152, 0.154, 0.156, 0.158, 0.16 ,\n",
       "        0.162, 0.164, 0.166, 0.168, 0.17 , 0.172, 0.174, 0.176, 0.178,\n",
       "        0.18 , 0.182, 0.184, 0.186, 0.188, 0.19 , 0.192, 0.194, 0.196,\n",
       "        0.198, 0.2  , 0.202, 0.204, 0.206, 0.208, 0.21 , 0.212, 0.214,\n",
       "        0.216, 0.218, 0.22 , 0.222, 0.224, 0.226, 0.228, 0.23 , 0.232,\n",
       "        0.234, 0.236, 0.238, 0.24 , 0.242, 0.244, 0.246, 0.248, 0.25 ,\n",
       "        0.252, 0.254, 0.256, 0.258, 0.26 , 0.262, 0.264, 0.266, 0.268,\n",
       "        0.27 , 0.272, 0.274, 0.276, 0.278, 0.28 , 0.282, 0.284, 0.286,\n",
       "        0.288, 0.29 , 0.292, 0.294, 0.296, 0.298, 0.3  , 0.302, 0.304,\n",
       "        0.306, 0.308, 0.31 , 0.312, 0.314, 0.316, 0.318, 0.32 , 0.322,\n",
       "        0.324, 0.326, 0.328, 0.33 , 0.332, 0.334, 0.336, 0.338, 0.34 ,\n",
       "        0.342, 0.344, 0.346, 0.348, 0.35 , 0.352, 0.354, 0.356, 0.358,\n",
       "        0.36 , 0.362, 0.364, 0.366, 0.368, 0.37 , 0.372, 0.374, 0.376,\n",
       "        0.378, 0.38 , 0.382, 0.384, 0.386, 0.388, 0.39 , 0.392, 0.394,\n",
       "        0.396, 0.398, 0.4  , 0.402, 0.404, 0.406, 0.408, 0.41 , 0.412,\n",
       "        0.414, 0.416, 0.418, 0.42 , 0.422, 0.424, 0.426, 0.428, 0.43 ,\n",
       "        0.432, 0.434, 0.436, 0.438, 0.44 , 0.442, 0.444, 0.446, 0.448,\n",
       "        0.45 , 0.452, 0.454, 0.456, 0.458, 0.46 , 0.462, 0.464, 0.466,\n",
       "        0.468, 0.47 , 0.472, 0.474, 0.476, 0.478, 0.48 , 0.482, 0.484,\n",
       "        0.486, 0.488, 0.49 , 0.492, 0.494, 0.496, 0.498, 0.5  , 0.502,\n",
       "        0.504, 0.506, 0.508, 0.51 , 0.512, 0.514, 0.516, 0.518, 0.52 ,\n",
       "        0.522, 0.524, 0.526, 0.528, 0.53 , 0.532, 0.534, 0.536, 0.538,\n",
       "        0.54 , 0.542, 0.544, 0.546, 0.548, 0.55 , 0.552, 0.554, 0.556,\n",
       "        0.558, 0.56 , 0.562, 0.564, 0.566, 0.568, 0.57 , 0.572, 0.574,\n",
       "        0.576, 0.578, 0.58 , 0.582, 0.584, 0.586, 0.588, 0.59 , 0.592,\n",
       "        0.594, 0.596, 0.598, 0.6  , 0.602, 0.604, 0.606, 0.608, 0.61 ,\n",
       "        0.612, 0.614, 0.616, 0.618, 0.62 , 0.622, 0.624, 0.626, 0.628,\n",
       "        0.63 , 0.632, 0.634, 0.636, 0.638, 0.64 , 0.642, 0.644, 0.646,\n",
       "        0.648, 0.65 , 0.652, 0.654, 0.656, 0.658, 0.66 , 0.662, 0.664,\n",
       "        0.666, 0.668, 0.67 , 0.672, 0.674, 0.676, 0.678, 0.68 , 0.682,\n",
       "        0.684, 0.686, 0.688, 0.69 , 0.692, 0.694, 0.696, 0.698, 0.7  ,\n",
       "        0.702, 0.704, 0.706, 0.708, 0.71 , 0.712, 0.714, 0.716, 0.718,\n",
       "        0.72 , 0.722, 0.724, 0.726, 0.728, 0.73 , 0.732, 0.734, 0.736,\n",
       "        0.738, 0.74 , 0.742, 0.744, 0.746, 0.748, 0.75 , 0.752, 0.754,\n",
       "        0.756, 0.758, 0.76 , 0.762, 0.764, 0.766, 0.768, 0.77 , 0.772,\n",
       "        0.774, 0.776, 0.778, 0.78 , 0.782, 0.784, 0.786, 0.788, 0.79 ,\n",
       "        0.792, 0.794, 0.796, 0.798, 0.8  , 0.802, 0.804, 0.806, 0.808,\n",
       "        0.81 , 0.812, 0.814, 0.816, 0.818, 0.82 , 0.822, 0.824, 0.826,\n",
       "        0.828, 0.83 , 0.832, 0.834, 0.836, 0.838, 0.84 , 0.842, 0.844,\n",
       "        0.846, 0.848, 0.85 , 0.852, 0.854, 0.856, 0.858, 0.86 , 0.862,\n",
       "        0.864, 0.866, 0.868, 0.87 , 0.872, 0.874, 0.876, 0.878, 0.88 ,\n",
       "        0.882, 0.884, 0.886, 0.888, 0.89 , 0.892, 0.894, 0.896, 0.898,\n",
       "        0.9  , 0.902, 0.904, 0.906, 0.908, 0.91 , 0.912, 0.914, 0.916,\n",
       "        0.918, 0.92 , 0.922, 0.924, 0.926, 0.928, 0.93 , 0.932, 0.934,\n",
       "        0.936, 0.938, 0.94 , 0.942, 0.944, 0.946, 0.948, 0.95 , 0.952,\n",
       "        0.954, 0.956, 0.958, 0.96 , 0.962, 0.964, 0.966, 0.968, 0.97 ,\n",
       "        0.972, 0.974, 0.976, 0.978, 0.98 , 0.982, 0.984, 0.986, 0.988,\n",
       "        0.99 , 0.992, 0.994, 0.996, 0.998]),\n",
       " <a list of 499 Patch objects>)"
      ]
     },
     "execution_count": 134,
     "metadata": {},
     "output_type": "execute_result"
    },
    {
     "name": "stderr",
     "output_type": "stream",
     "text": [
      "No handles with labels found to put in legend.\n"
     ]
    },
    {
     "data": {
      "text/plain": [
       "<matplotlib.legend.Legend at 0x1d2ce8f2548>"
      ]
     },
     "execution_count": 134,
     "metadata": {},
     "output_type": "execute_result"
    },
    {
     "data": {
      "text/plain": [
       "Text(0.5, 0, 'salary-group')"
      ]
     },
     "execution_count": 134,
     "metadata": {},
     "output_type": "execute_result"
    },
    {
     "data": {
      "text/plain": [
       "Text(0, 0.5, 'salary')"
      ]
     },
     "execution_count": 134,
     "metadata": {},
     "output_type": "execute_result"
    },
    {
     "data": {
      "text/plain": [
       "Text(0.5, 1.0, 'Hist')"
      ]
     },
     "execution_count": 134,
     "metadata": {},
     "output_type": "execute_result"
    },
    {
     "data": {
      "image/png": "[encoded data removed]",
      "text/plain": [
       "<Figure size 2880x2160 with 1 Axes>"
      ]
     },
     "metadata": {
      "needs_background": "light"
     },
     "output_type": "display_data"
    },
    {
     "data": {
      "text/plain": [
       "<Figure size 2880x2160 with 0 Axes>"
      ]
     },
     "execution_count": 134,
     "metadata": {},
     "output_type": "execute_result"
    },
    {
     "data": {
      "text/plain": [
       "(array([ 0.        ,  0.        ,  0.        ,  0.        ,  0.        ,\n",
       "         0.        ,  0.        ,  0.        ,  0.        ,  0.        ,\n",
       "         0.        ,  0.        ,  0.        ,  0.        ,  0.        ,\n",
       "         0.        ,  0.        ,  0.        ,  0.        ,  0.        ,\n",
       "         0.        ,  0.        ,  0.        ,  0.        ,  0.        ,\n",
       "         0.        ,  0.        ,  0.        ,  0.        ,  0.        ,\n",
       "         0.        ,  0.        ,  0.        ,  0.        ,  0.        ,\n",
       "         0.        ,  0.        ,  0.        ,  0.        ,  0.        ,\n",
       "         0.        ,  0.        ,  0.        ,  0.        ,  0.        ,\n",
       "         0.        ,  0.        ,  0.7800312 ,  0.        ,  0.3900156 ,\n",
       "         1.1700468 ,  0.        ,  6.63026521,  0.        ,  0.        ,\n",
       "        15.60062402,  0.        ,  0.        , 27.30109204,  0.        ,\n",
       "         0.        ,  0.        , 40.56162246,  0.        ,  0.        ,\n",
       "         0.        , 61.2324493 ,  0.        ,  0.        ,  0.        ,\n",
       "         0.        , 60.0624025 ,  0.        ,  0.        ,  0.        ,\n",
       "         0.        , 72.15288612,  0.        ,  0.        ,  0.        ,\n",
       "         0.        ,  0.        ,  0.        , 62.4024961 ,  0.        ,\n",
       "         0.        ,  0.        ,  0.        ,  0.        ,  0.        ,\n",
       "        58.11232449,  0.        ,  0.        ,  0.        ,  0.        ,\n",
       "         0.        ,  0.        ,  0.        ,  0.        ,  0.3900156 ,\n",
       "        35.10140406,  0.        ,  0.        ,  0.        ,  0.        ,\n",
       "         0.        ,  0.        ,  0.        ,  0.        ,  0.        ,\n",
       "         0.        , 22.23088924,  0.        ,  0.        ,  0.        ,\n",
       "         0.        ,  0.        ,  1.950078  ,  0.        ,  0.        ,\n",
       "         0.        ,  0.        ,  0.        ,  0.        ,  0.        ,\n",
       "        10.53042122,  0.        ,  0.        ,  0.        ,  0.        ,\n",
       "         0.        ,  0.        ,  0.        ,  6.63026521,  0.        ,\n",
       "         0.        ,  0.        ,  0.        ,  0.        ,  0.        ,\n",
       "         0.        ,  0.        ,  8.19032761,  0.        ,  0.        ,\n",
       "         0.        ,  0.        ,  0.        ,  0.        ,  0.        ,\n",
       "         0.        ,  0.        ,  0.        ,  3.51014041,  0.        ,\n",
       "         0.        ,  0.        ,  0.        ,  0.        ,  0.        ,\n",
       "         0.        ,  0.        ,  0.        ,  0.        ,  0.        ,\n",
       "         0.        ,  2.3400936 ,  0.        ,  0.        ,  0.        ,\n",
       "         0.        ,  0.        ,  0.        ,  0.        ,  0.        ,\n",
       "         0.        ,  0.3900156 ,  0.        ,  0.        ,  0.        ,\n",
       "         0.        ,  0.7800312 ,  0.        ,  0.        ,  0.        ,\n",
       "         0.        ,  0.        ,  0.3900156 ,  0.        ,  0.        ,\n",
       "         0.        ,  0.        ,  0.        ,  0.        ,  0.        ,\n",
       "         0.        ,  0.        ,  0.        ,  0.        ,  0.        ,\n",
       "         0.7800312 ,  0.        ,  0.        ,  0.        ,  0.        ,\n",
       "         0.        ,  0.        ,  0.        ,  0.        ,  0.        ,\n",
       "         0.        ,  0.        ,  0.        ,  0.        ,  0.3900156 ,\n",
       "         0.        ,  0.        ,  0.        ,  0.        ,  0.        ,\n",
       "         0.        ,  0.        ,  0.        ,  0.        ,  0.        ,\n",
       "         0.        ,  0.        ,  0.        ,  0.        ,  0.        ,\n",
       "         0.        ,  0.        ,  0.        ,  0.        ,  0.        ,\n",
       "         0.        ,  0.        ,  0.        ,  0.        ,  0.        ,\n",
       "         0.        ,  0.        ,  0.        ,  0.        ,  0.        ,\n",
       "         0.        ,  0.        ,  0.        ,  0.        ,  0.        ,\n",
       "         0.        ,  0.        ,  0.        ,  0.        ,  0.        ,\n",
       "         0.        ,  0.        ,  0.        ,  0.        ,  0.        ,\n",
       "         0.        ,  0.        ,  0.        ,  0.        ,  0.        ,\n",
       "         0.        ,  0.        ,  0.        ,  0.        ,  0.        ,\n",
       "         0.        ,  0.        ,  0.        ,  0.        ,  0.        ,\n",
       "         0.        ,  0.        ,  0.        ,  0.        ,  0.        ,\n",
       "         0.        ,  0.        ,  0.        ,  0.        ,  0.        ,\n",
       "         0.        ,  0.        ,  0.        ,  0.        ,  0.        ,\n",
       "         0.        ,  0.        ,  0.        ,  0.        ,  0.        ,\n",
       "         0.        ,  0.        ,  0.        ,  0.        ,  0.        ,\n",
       "         0.        ,  0.        ,  0.        ,  0.        ,  0.        ,\n",
       "         0.        ,  0.        ,  0.        ,  0.        ,  0.        ,\n",
       "         0.        ,  0.        ,  0.        ,  0.        ,  0.        ,\n",
       "         0.        ,  0.        ,  0.        ,  0.        ,  0.        ,\n",
       "         0.        ,  0.        ,  0.        ,  0.        ,  0.        ,\n",
       "         0.        ,  0.        ,  0.        ,  0.        ,  0.        ,\n",
       "         0.        ,  0.        ,  0.        ,  0.        ,  0.        ,\n",
       "         0.        ,  0.        ,  0.        ,  0.        ,  0.        ,\n",
       "         0.        ,  0.        ,  0.        ,  0.        ,  0.        ,\n",
       "         0.        ,  0.        ,  0.        ,  0.        ,  0.        ,\n",
       "         0.        ,  0.        ,  0.        ,  0.        ,  0.        ,\n",
       "         0.        ,  0.        ,  0.        ,  0.        ,  0.        ,\n",
       "         0.        ,  0.        ,  0.        ,  0.        ,  0.        ,\n",
       "         0.        ,  0.        ,  0.        ,  0.        ,  0.        ,\n",
       "         0.        ,  0.        ,  0.        ,  0.        ,  0.        ,\n",
       "         0.        ,  0.        ,  0.        ,  0.        ,  0.        ,\n",
       "         0.        ,  0.        ,  0.        ,  0.        ,  0.        ,\n",
       "         0.        ,  0.        ,  0.        ,  0.        ,  0.        ,\n",
       "         0.        ,  0.        ,  0.        ,  0.        ,  0.        ,\n",
       "         0.        ,  0.        ,  0.        ,  0.        ,  0.        ,\n",
       "         0.        ,  0.        ,  0.        ,  0.        ,  0.        ,\n",
       "         0.        ,  0.        ,  0.        ,  0.        ,  0.        ,\n",
       "         0.        ,  0.        ,  0.        ,  0.        ,  0.        ,\n",
       "         0.        ,  0.        ,  0.        ,  0.        ,  0.        ,\n",
       "         0.        ,  0.        ,  0.        ,  0.        ,  0.        ,\n",
       "         0.        ,  0.        ,  0.        ,  0.        ,  0.        ,\n",
       "         0.        ,  0.        ,  0.        ,  0.        ,  0.        ,\n",
       "         0.        ,  0.        ,  0.        ,  0.        ,  0.        ,\n",
       "         0.        ,  0.        ,  0.        ,  0.        ,  0.        ,\n",
       "         0.        ,  0.        ,  0.        ,  0.        ,  0.        ,\n",
       "         0.        ,  0.        ,  0.        ,  0.        ,  0.        ,\n",
       "         0.        ,  0.        ,  0.        ,  0.        ,  0.        ,\n",
       "         0.        ,  0.        ,  0.        ,  0.        ,  0.        ,\n",
       "         0.        ,  0.        ,  0.        ,  0.        ,  0.        ,\n",
       "         0.        ,  0.        ,  0.        ,  0.        ,  0.        ,\n",
       "         0.        ,  0.        ,  0.        ,  0.        ,  0.        ,\n",
       "         0.        ,  0.        ,  0.        ,  0.        ,  0.        ,\n",
       "         0.        ,  0.        ,  0.        ,  0.        ,  0.        ,\n",
       "         0.        ,  0.        ,  0.        ,  0.        ,  0.        ,\n",
       "         0.        ,  0.        ,  0.        ,  0.        ]),\n",
       " array([0.   , 0.002, 0.004, 0.006, 0.008, 0.01 , 0.012, 0.014, 0.016,\n",
       "        0.018, 0.02 , 0.022, 0.024, 0.026, 0.028, 0.03 , 0.032, 0.034,\n",
       "        0.036, 0.038, 0.04 , 0.042, 0.044, 0.046, 0.048, 0.05 , 0.052,\n",
       "        0.054, 0.056, 0.058, 0.06 , 0.062, 0.064, 0.066, 0.068, 0.07 ,\n",
       "        0.072, 0.074, 0.076, 0.078, 0.08 , 0.082, 0.084, 0.086, 0.088,\n",
       "        0.09 , 0.092, 0.094, 0.096, 0.098, 0.1  , 0.102, 0.104, 0.106,\n",
       "        0.108, 0.11 , 0.112, 0.114, 0.116, 0.118, 0.12 , 0.122, 0.124,\n",
       "        0.126, 0.128, 0.13 , 0.132, 0.134, 0.136, 0.138, 0.14 , 0.142,\n",
       "        0.144, 0.146, 0.148, 0.15 , 0.152, 0.154, 0.156, 0.158, 0.16 ,\n",
       "        0.162, 0.164, 0.166, 0.168, 0.17 , 0.172, 0.174, 0.176, 0.178,\n",
       "        0.18 , 0.182, 0.184, 0.186, 0.188, 0.19 , 0.192, 0.194, 0.196,\n",
       "        0.198, 0.2  , 0.202, 0.204, 0.206, 0.208, 0.21 , 0.212, 0.214,\n",
       "        0.216, 0.218, 0.22 , 0.222, 0.224, 0.226, 0.228, 0.23 , 0.232,\n",
       "        0.234, 0.236, 0.238, 0.24 , 0.242, 0.244, 0.246, 0.248, 0.25 ,\n",
       "        0.252, 0.254, 0.256, 0.258, 0.26 , 0.262, 0.264, 0.266, 0.268,\n",
       "        0.27 , 0.272, 0.274, 0.276, 0.278, 0.28 , 0.282, 0.284, 0.286,\n",
       "        0.288, 0.29 , 0.292, 0.294, 0.296, 0.298, 0.3  , 0.302, 0.304,\n",
       "        0.306, 0.308, 0.31 , 0.312, 0.314, 0.316, 0.318, 0.32 , 0.322,\n",
       "        0.324, 0.326, 0.328, 0.33 , 0.332, 0.334, 0.336, 0.338, 0.34 ,\n",
       "        0.342, 0.344, 0.346, 0.348, 0.35 , 0.352, 0.354, 0.356, 0.358,\n",
       "        0.36 , 0.362, 0.364, 0.366, 0.368, 0.37 , 0.372, 0.374, 0.376,\n",
       "        0.378, 0.38 , 0.382, 0.384, 0.386, 0.388, 0.39 , 0.392, 0.394,\n",
       "        0.396, 0.398, 0.4  , 0.402, 0.404, 0.406, 0.408, 0.41 , 0.412,\n",
       "        0.414, 0.416, 0.418, 0.42 , 0.422, 0.424, 0.426, 0.428, 0.43 ,\n",
       "        0.432, 0.434, 0.436, 0.438, 0.44 , 0.442, 0.444, 0.446, 0.448,\n",
       "        0.45 , 0.452, 0.454, 0.456, 0.458, 0.46 , 0.462, 0.464, 0.466,\n",
       "        0.468, 0.47 , 0.472, 0.474, 0.476, 0.478, 0.48 , 0.482, 0.484,\n",
       "        0.486, 0.488, 0.49 , 0.492, 0.494, 0.496, 0.498, 0.5  , 0.502,\n",
       "        0.504, 0.506, 0.508, 0.51 , 0.512, 0.514, 0.516, 0.518, 0.52 ,\n",
       "        0.522, 0.524, 0.526, 0.528, 0.53 , 0.532, 0.534, 0.536, 0.538,\n",
       "        0.54 , 0.542, 0.544, 0.546, 0.548, 0.55 , 0.552, 0.554, 0.556,\n",
       "        0.558, 0.56 , 0.562, 0.564, 0.566, 0.568, 0.57 , 0.572, 0.574,\n",
       "        0.576, 0.578, 0.58 , 0.582, 0.584, 0.586, 0.588, 0.59 , 0.592,\n",
       "        0.594, 0.596, 0.598, 0.6  , 0.602, 0.604, 0.606, 0.608, 0.61 ,\n",
       "        0.612, 0.614, 0.616, 0.618, 0.62 , 0.622, 0.624, 0.626, 0.628,\n",
       "        0.63 , 0.632, 0.634, 0.636, 0.638, 0.64 , 0.642, 0.644, 0.646,\n",
       "        0.648, 0.65 , 0.652, 0.654, 0.656, 0.658, 0.66 , 0.662, 0.664,\n",
       "        0.666, 0.668, 0.67 , 0.672, 0.674, 0.676, 0.678, 0.68 , 0.682,\n",
       "        0.684, 0.686, 0.688, 0.69 , 0.692, 0.694, 0.696, 0.698, 0.7  ,\n",
       "        0.702, 0.704, 0.706, 0.708, 0.71 , 0.712, 0.714, 0.716, 0.718,\n",
       "        0.72 , 0.722, 0.724, 0.726, 0.728, 0.73 , 0.732, 0.734, 0.736,\n",
       "        0.738, 0.74 , 0.742, 0.744, 0.746, 0.748, 0.75 , 0.752, 0.754,\n",
       "        0.756, 0.758, 0.76 , 0.762, 0.764, 0.766, 0.768, 0.77 , 0.772,\n",
       "        0.774, 0.776, 0.778, 0.78 , 0.782, 0.784, 0.786, 0.788, 0.79 ,\n",
       "        0.792, 0.794, 0.796, 0.798, 0.8  , 0.802, 0.804, 0.806, 0.808,\n",
       "        0.81 , 0.812, 0.814, 0.816, 0.818, 0.82 , 0.822, 0.824, 0.826,\n",
       "        0.828, 0.83 , 0.832, 0.834, 0.836, 0.838, 0.84 , 0.842, 0.844,\n",
       "        0.846, 0.848, 0.85 , 0.852, 0.854, 0.856, 0.858, 0.86 , 0.862,\n",
       "        0.864, 0.866, 0.868, 0.87 , 0.872, 0.874, 0.876, 0.878, 0.88 ,\n",
       "        0.882, 0.884, 0.886, 0.888, 0.89 , 0.892, 0.894, 0.896, 0.898,\n",
       "        0.9  , 0.902, 0.904, 0.906, 0.908, 0.91 , 0.912, 0.914, 0.916,\n",
       "        0.918, 0.92 , 0.922, 0.924, 0.926, 0.928, 0.93 , 0.932, 0.934,\n",
       "        0.936, 0.938, 0.94 , 0.942, 0.944, 0.946, 0.948, 0.95 , 0.952,\n",
       "        0.954, 0.956, 0.958, 0.96 , 0.962, 0.964, 0.966, 0.968, 0.97 ,\n",
       "        0.972, 0.974, 0.976, 0.978, 0.98 , 0.982, 0.984, 0.986, 0.988,\n",
       "        0.99 , 0.992, 0.994, 0.996, 0.998]),\n",
       " <a list of 499 Patch objects>)"
      ]
     },
     "execution_count": 134,
     "metadata": {},
     "output_type": "execute_result"
    },
    {
     "name": "stderr",
     "output_type": "stream",
     "text": [
      "No handles with labels found to put in legend.\n"
     ]
    },
    {
     "data": {
      "text/plain": [
       "<matplotlib.legend.Legend at 0x1d2ce639c48>"
      ]
     },
     "execution_count": 134,
     "metadata": {},
     "output_type": "execute_result"
    },
    {
     "data": {
      "text/plain": [
       "Text(0.5, 0, 'salary-group')"
      ]
     },
     "execution_count": 134,
     "metadata": {},
     "output_type": "execute_result"
    },
    {
     "data": {
      "text/plain": [
       "Text(0, 0.5, 'salary')"
      ]
     },
     "execution_count": 134,
     "metadata": {},
     "output_type": "execute_result"
    },
    {
     "data": {
      "text/plain": [
       "Text(0.5, 1.0, 'Hist')"
      ]
     },
     "execution_count": 134,
     "metadata": {},
     "output_type": "execute_result"
    },
    {
     "data": {
      "text/plain": [
       "<Figure size 432x288 with 0 Axes>"
      ]
     },
     "metadata": {},
     "output_type": "display_data"
    },
    {
     "data": {
      "image/png": "[encoded data removed]",
      "text/plain": [
       "<Figure size 2880x2160 with 1 Axes>"
      ]
     },
     "metadata": {
      "needs_background": "light"
     },
     "output_type": "display_data"
    },
    {
     "data": {
      "text/plain": [
       "<Figure size 2880x2160 with 0 Axes>"
      ]
     },
     "execution_count": 134,
     "metadata": {},
     "output_type": "execute_result"
    },
    {
     "data": {
      "text/plain": [
       "(array([ 0.        ,  0.        ,  0.        ,  0.        ,  0.        ,\n",
       "         0.        ,  0.        ,  0.        ,  0.        ,  0.        ,\n",
       "         0.        ,  0.        ,  0.        ,  0.        ,  0.        ,\n",
       "         0.        ,  0.        ,  0.        ,  0.        ,  0.        ,\n",
       "         0.        ,  0.        ,  0.        ,  0.        ,  0.        ,\n",
       "         0.        ,  0.        ,  0.        ,  0.        ,  0.        ,\n",
       "         0.        ,  0.        ,  0.        ,  0.        ,  0.        ,\n",
       "         0.        ,  0.        ,  0.        ,  0.        ,  0.        ,\n",
       "         0.59241706,  2.66587678,  0.        ,  4.73933649,  0.        ,\n",
       "        12.14454976,  0.        , 16.88388626,  0.        , 13.03317536,\n",
       "        18.95734597,  0.        , 46.50473934,  0.        ,  0.        ,\n",
       "        50.65165877,  0.        ,  0.        , 62.79620853,  0.        ,\n",
       "         0.        ,  0.        , 63.09241706,  0.        ,  0.        ,\n",
       "         0.        , 57.76066351,  0.        ,  0.        ,  0.        ,\n",
       "         0.        , 46.50473934,  0.        ,  0.        ,  0.        ,\n",
       "         0.        , 31.10189573,  0.        ,  0.        ,  0.        ,\n",
       "         0.29620853,  0.        ,  0.        , 19.2535545 ,  0.        ,\n",
       "         0.        ,  1.48104265,  0.        ,  0.        ,  0.        ,\n",
       "        13.92180095,  0.        ,  0.        ,  0.        ,  0.        ,\n",
       "         1.77725118,  0.        ,  0.        ,  0.        ,  0.29620853,\n",
       "         5.92417062,  0.        ,  0.        ,  0.        ,  0.        ,\n",
       "         2.66587678,  0.        ,  0.        ,  0.        ,  0.        ,\n",
       "         0.        ,  9.77488152,  0.        ,  0.        ,  0.        ,\n",
       "         0.        ,  0.        ,  4.14691943,  0.        ,  0.        ,\n",
       "         0.        ,  0.        ,  0.        ,  0.        ,  0.        ,\n",
       "         6.22037915,  0.        ,  0.        ,  0.        ,  0.        ,\n",
       "         0.        ,  0.        ,  0.        ,  1.18483412,  0.        ,\n",
       "         0.        ,  0.        ,  0.        ,  0.        ,  0.        ,\n",
       "         0.        ,  0.        ,  2.07345972,  0.        ,  0.        ,\n",
       "         0.        ,  0.        ,  0.        ,  0.        ,  0.        ,\n",
       "         0.29620853,  0.        ,  0.        ,  0.88862559,  0.        ,\n",
       "         0.        ,  0.        ,  0.        ,  0.        ,  0.        ,\n",
       "         0.        ,  0.        ,  0.        ,  0.        ,  0.        ,\n",
       "         0.        ,  0.59241706,  0.        ,  0.        ,  0.        ,\n",
       "         0.        ,  0.        ,  0.        ,  0.        ,  0.        ,\n",
       "         0.        ,  0.88862559,  0.        ,  0.        ,  0.        ,\n",
       "         0.        ,  0.29620853,  0.        ,  0.        ,  0.        ,\n",
       "         0.        ,  0.        ,  0.        ,  0.        ,  0.        ,\n",
       "         0.        ,  0.        ,  0.        ,  0.        ,  0.        ,\n",
       "         0.        ,  0.        ,  0.        ,  0.        ,  0.        ,\n",
       "         0.29620853,  0.        ,  0.        ,  0.        ,  0.        ,\n",
       "         0.        ,  0.        ,  0.        ,  0.        ,  0.        ,\n",
       "         0.29620853,  0.        ,  0.        ,  0.        ,  0.        ,\n",
       "         0.        ,  0.        ,  0.        ,  0.        ,  0.        ,\n",
       "         0.        ,  0.        ,  0.        ,  0.        ,  0.        ,\n",
       "         0.        ,  0.        ,  0.        ,  0.        ,  0.        ,\n",
       "         0.        ,  0.        ,  0.        ,  0.        ,  0.        ,\n",
       "         0.        ,  0.        ,  0.        ,  0.        ,  0.        ,\n",
       "         0.        ,  0.        ,  0.        ,  0.        ,  0.        ,\n",
       "         0.        ,  0.        ,  0.        ,  0.        ,  0.        ,\n",
       "         0.        ,  0.        ,  0.        ,  0.        ,  0.        ,\n",
       "         0.        ,  0.        ,  0.        ,  0.        ,  0.        ,\n",
       "         0.        ,  0.        ,  0.        ,  0.        ,  0.        ,\n",
       "         0.        ,  0.        ,  0.        ,  0.        ,  0.        ,\n",
       "         0.        ,  0.        ,  0.        ,  0.        ,  0.        ,\n",
       "         0.        ,  0.        ,  0.        ,  0.        ,  0.        ,\n",
       "         0.        ,  0.        ,  0.        ,  0.        ,  0.        ,\n",
       "         0.        ,  0.        ,  0.        ,  0.        ,  0.        ,\n",
       "         0.        ,  0.        ,  0.        ,  0.        ,  0.        ,\n",
       "         0.        ,  0.        ,  0.        ,  0.        ,  0.        ,\n",
       "         0.        ,  0.        ,  0.        ,  0.        ,  0.        ,\n",
       "         0.        ,  0.        ,  0.        ,  0.        ,  0.        ,\n",
       "         0.        ,  0.        ,  0.        ,  0.        ,  0.        ,\n",
       "         0.        ,  0.        ,  0.        ,  0.        ,  0.        ,\n",
       "         0.        ,  0.        ,  0.        ,  0.        ,  0.        ,\n",
       "         0.        ,  0.        ,  0.        ,  0.        ,  0.        ,\n",
       "         0.        ,  0.        ,  0.        ,  0.        ,  0.        ,\n",
       "         0.        ,  0.        ,  0.        ,  0.        ,  0.        ,\n",
       "         0.        ,  0.        ,  0.        ,  0.        ,  0.        ,\n",
       "         0.        ,  0.        ,  0.        ,  0.        ,  0.        ,\n",
       "         0.        ,  0.        ,  0.        ,  0.        ,  0.        ,\n",
       "         0.        ,  0.        ,  0.        ,  0.        ,  0.        ,\n",
       "         0.        ,  0.        ,  0.        ,  0.        ,  0.        ,\n",
       "         0.        ,  0.        ,  0.        ,  0.        ,  0.        ,\n",
       "         0.        ,  0.        ,  0.        ,  0.        ,  0.        ,\n",
       "         0.        ,  0.        ,  0.        ,  0.        ,  0.        ,\n",
       "         0.        ,  0.        ,  0.        ,  0.        ,  0.        ,\n",
       "         0.        ,  0.        ,  0.        ,  0.        ,  0.        ,\n",
       "         0.        ,  0.        ,  0.        ,  0.        ,  0.        ,\n",
       "         0.        ,  0.        ,  0.        ,  0.        ,  0.        ,\n",
       "         0.        ,  0.        ,  0.        ,  0.        ,  0.        ,\n",
       "         0.        ,  0.        ,  0.        ,  0.        ,  0.        ,\n",
       "         0.        ,  0.        ,  0.        ,  0.        ,  0.        ,\n",
       "         0.        ,  0.        ,  0.        ,  0.        ,  0.        ,\n",
       "         0.        ,  0.        ,  0.        ,  0.        ,  0.        ,\n",
       "         0.        ,  0.        ,  0.        ,  0.        ,  0.        ,\n",
       "         0.        ,  0.        ,  0.        ,  0.        ,  0.        ,\n",
       "         0.        ,  0.        ,  0.        ,  0.        ,  0.        ,\n",
       "         0.        ,  0.        ,  0.        ,  0.        ,  0.        ,\n",
       "         0.        ,  0.        ,  0.        ,  0.        ,  0.        ,\n",
       "         0.        ,  0.        ,  0.        ,  0.        ,  0.        ,\n",
       "         0.        ,  0.        ,  0.        ,  0.        ,  0.        ,\n",
       "         0.        ,  0.        ,  0.        ,  0.        ,  0.        ,\n",
       "         0.        ,  0.        ,  0.        ,  0.        ,  0.        ,\n",
       "         0.        ,  0.        ,  0.        ,  0.        ,  0.        ,\n",
       "         0.        ,  0.        ,  0.        ,  0.        ,  0.        ,\n",
       "         0.        ,  0.        ,  0.        ,  0.        ,  0.        ,\n",
       "         0.        ,  0.        ,  0.        ,  0.        ,  0.        ,\n",
       "         0.        ,  0.        ,  0.        ,  0.        ,  0.        ,\n",
       "         0.        ,  0.        ,  0.        ,  0.        ]),\n",
       " array([0.   , 0.002, 0.004, 0.006, 0.008, 0.01 , 0.012, 0.014, 0.016,\n",
       "        0.018, 0.02 , 0.022, 0.024, 0.026, 0.028, 0.03 , 0.032, 0.034,\n",
       "        0.036, 0.038, 0.04 , 0.042, 0.044, 0.046, 0.048, 0.05 , 0.052,\n",
       "        0.054, 0.056, 0.058, 0.06 , 0.062, 0.064, 0.066, 0.068, 0.07 ,\n",
       "        0.072, 0.074, 0.076, 0.078, 0.08 , 0.082, 0.084, 0.086, 0.088,\n",
       "        0.09 , 0.092, 0.094, 0.096, 0.098, 0.1  , 0.102, 0.104, 0.106,\n",
       "        0.108, 0.11 , 0.112, 0.114, 0.116, 0.118, 0.12 , 0.122, 0.124,\n",
       "        0.126, 0.128, 0.13 , 0.132, 0.134, 0.136, 0.138, 0.14 , 0.142,\n",
       "        0.144, 0.146, 0.148, 0.15 , 0.152, 0.154, 0.156, 0.158, 0.16 ,\n",
       "        0.162, 0.164, 0.166, 0.168, 0.17 , 0.172, 0.174, 0.176, 0.178,\n",
       "        0.18 , 0.182, 0.184, 0.186, 0.188, 0.19 , 0.192, 0.194, 0.196,\n",
       "        0.198, 0.2  , 0.202, 0.204, 0.206, 0.208, 0.21 , 0.212, 0.214,\n",
       "        0.216, 0.218, 0.22 , 0.222, 0.224, 0.226, 0.228, 0.23 , 0.232,\n",
       "        0.234, 0.236, 0.238, 0.24 , 0.242, 0.244, 0.246, 0.248, 0.25 ,\n",
       "        0.252, 0.254, 0.256, 0.258, 0.26 , 0.262, 0.264, 0.266, 0.268,\n",
       "        0.27 , 0.272, 0.274, 0.276, 0.278, 0.28 , 0.282, 0.284, 0.286,\n",
       "        0.288, 0.29 , 0.292, 0.294, 0.296, 0.298, 0.3  , 0.302, 0.304,\n",
       "        0.306, 0.308, 0.31 , 0.312, 0.314, 0.316, 0.318, 0.32 , 0.322,\n",
       "        0.324, 0.326, 0.328, 0.33 , 0.332, 0.334, 0.336, 0.338, 0.34 ,\n",
       "        0.342, 0.344, 0.346, 0.348, 0.35 , 0.352, 0.354, 0.356, 0.358,\n",
       "        0.36 , 0.362, 0.364, 0.366, 0.368, 0.37 , 0.372, 0.374, 0.376,\n",
       "        0.378, 0.38 , 0.382, 0.384, 0.386, 0.388, 0.39 , 0.392, 0.394,\n",
       "        0.396, 0.398, 0.4  , 0.402, 0.404, 0.406, 0.408, 0.41 , 0.412,\n",
       "        0.414, 0.416, 0.418, 0.42 , 0.422, 0.424, 0.426, 0.428, 0.43 ,\n",
       "        0.432, 0.434, 0.436, 0.438, 0.44 , 0.442, 0.444, 0.446, 0.448,\n",
       "        0.45 , 0.452, 0.454, 0.456, 0.458, 0.46 , 0.462, 0.464, 0.466,\n",
       "        0.468, 0.47 , 0.472, 0.474, 0.476, 0.478, 0.48 , 0.482, 0.484,\n",
       "        0.486, 0.488, 0.49 , 0.492, 0.494, 0.496, 0.498, 0.5  , 0.502,\n",
       "        0.504, 0.506, 0.508, 0.51 , 0.512, 0.514, 0.516, 0.518, 0.52 ,\n",
       "        0.522, 0.524, 0.526, 0.528, 0.53 , 0.532, 0.534, 0.536, 0.538,\n",
       "        0.54 , 0.542, 0.544, 0.546, 0.548, 0.55 , 0.552, 0.554, 0.556,\n",
       "        0.558, 0.56 , 0.562, 0.564, 0.566, 0.568, 0.57 , 0.572, 0.574,\n",
       "        0.576, 0.578, 0.58 , 0.582, 0.584, 0.586, 0.588, 0.59 , 0.592,\n",
       "        0.594, 0.596, 0.598, 0.6  , 0.602, 0.604, 0.606, 0.608, 0.61 ,\n",
       "        0.612, 0.614, 0.616, 0.618, 0.62 , 0.622, 0.624, 0.626, 0.628,\n",
       "        0.63 , 0.632, 0.634, 0.636, 0.638, 0.64 , 0.642, 0.644, 0.646,\n",
       "        0.648, 0.65 , 0.652, 0.654, 0.656, 0.658, 0.66 , 0.662, 0.664,\n",
       "        0.666, 0.668, 0.67 , 0.672, 0.674, 0.676, 0.678, 0.68 , 0.682,\n",
       "        0.684, 0.686, 0.688, 0.69 , 0.692, 0.694, 0.696, 0.698, 0.7  ,\n",
       "        0.702, 0.704, 0.706, 0.708, 0.71 , 0.712, 0.714, 0.716, 0.718,\n",
       "        0.72 , 0.722, 0.724, 0.726, 0.728, 0.73 , 0.732, 0.734, 0.736,\n",
       "        0.738, 0.74 , 0.742, 0.744, 0.746, 0.748, 0.75 , 0.752, 0.754,\n",
       "        0.756, 0.758, 0.76 , 0.762, 0.764, 0.766, 0.768, 0.77 , 0.772,\n",
       "        0.774, 0.776, 0.778, 0.78 , 0.782, 0.784, 0.786, 0.788, 0.79 ,\n",
       "        0.792, 0.794, 0.796, 0.798, 0.8  , 0.802, 0.804, 0.806, 0.808,\n",
       "        0.81 , 0.812, 0.814, 0.816, 0.818, 0.82 , 0.822, 0.824, 0.826,\n",
       "        0.828, 0.83 , 0.832, 0.834, 0.836, 0.838, 0.84 , 0.842, 0.844,\n",
       "        0.846, 0.848, 0.85 , 0.852, 0.854, 0.856, 0.858, 0.86 , 0.862,\n",
       "        0.864, 0.866, 0.868, 0.87 , 0.872, 0.874, 0.876, 0.878, 0.88 ,\n",
       "        0.882, 0.884, 0.886, 0.888, 0.89 , 0.892, 0.894, 0.896, 0.898,\n",
       "        0.9  , 0.902, 0.904, 0.906, 0.908, 0.91 , 0.912, 0.914, 0.916,\n",
       "        0.918, 0.92 , 0.922, 0.924, 0.926, 0.928, 0.93 , 0.932, 0.934,\n",
       "        0.936, 0.938, 0.94 , 0.942, 0.944, 0.946, 0.948, 0.95 , 0.952,\n",
       "        0.954, 0.956, 0.958, 0.96 , 0.962, 0.964, 0.966, 0.968, 0.97 ,\n",
       "        0.972, 0.974, 0.976, 0.978, 0.98 , 0.982, 0.984, 0.986, 0.988,\n",
       "        0.99 , 0.992, 0.994, 0.996, 0.998]),\n",
       " <a list of 499 Patch objects>)"
      ]
     },
     "execution_count": 134,
     "metadata": {},
     "output_type": "execute_result"
    },
    {
     "name": "stderr",
     "output_type": "stream",
     "text": [
      "No handles with labels found to put in legend.\n"
     ]
    },
    {
     "data": {
      "text/plain": [
       "<matplotlib.legend.Legend at 0x1d2dd2b7a08>"
      ]
     },
     "execution_count": 134,
     "metadata": {},
     "output_type": "execute_result"
    },
    {
     "data": {
      "text/plain": [
       "Text(0.5, 0, 'salary-group')"
      ]
     },
     "execution_count": 134,
     "metadata": {},
     "output_type": "execute_result"
    },
    {
     "data": {
      "text/plain": [
       "Text(0, 0.5, 'salary')"
      ]
     },
     "execution_count": 134,
     "metadata": {},
     "output_type": "execute_result"
    },
    {
     "data": {
      "text/plain": [
       "Text(0.5, 1.0, 'Hist')"
      ]
     },
     "execution_count": 134,
     "metadata": {},
     "output_type": "execute_result"
    },
    {
     "data": {
      "text/plain": [
       "<Figure size 432x288 with 0 Axes>"
      ]
     },
     "metadata": {},
     "output_type": "display_data"
    },
    {
     "data": {
      "image/png": "[encoded data removed]",
      "text/plain": [
       "<Figure size 2880x2160 with 1 Axes>"
      ]
     },
     "metadata": {
      "needs_background": "light"
     },
     "output_type": "display_data"
    },
    {
     "data": {
      "text/plain": [
       "<Figure size 2880x2160 with 0 Axes>"
      ]
     },
     "execution_count": 134,
     "metadata": {},
     "output_type": "execute_result"
    },
    {
     "data": {
      "text/plain": [
       "(array([ 0.        ,  0.        ,  0.        ,  0.        ,  0.        ,\n",
       "         0.        ,  0.        ,  0.        ,  0.        ,  0.        ,\n",
       "         0.        ,  0.        ,  0.        ,  0.        ,  0.        ,\n",
       "         0.        ,  0.        ,  0.        ,  0.        ,  0.        ,\n",
       "         0.        ,  0.        ,  0.        ,  0.        ,  0.        ,\n",
       "         0.        ,  0.        ,  0.        ,  0.        ,  0.        ,\n",
       "         0.        ,  0.        ,  0.        ,  0.        ,  0.7857517 ,\n",
       "         2.88108958,  0.        ,  2.09533787,  9.69093766,  1.5715034 ,\n",
       "        15.45311682, 26.45364065,  0.        , 35.88266108,  0.        ,\n",
       "        45.31168151,  0.        , 51.59769513,  0.        , 14.66736511,\n",
       "        47.66893662,  0.        , 56.05028811,  0.        ,  0.        ,\n",
       "        50.28810896,  0.        ,  0.        , 41.12100576,  0.        ,\n",
       "         0.        ,  0.        , 25.14405448,  0.        ,  0.        ,\n",
       "         0.        , 18.07228916,  0.        ,  0.52383447,  0.        ,\n",
       "         0.        , 11.5243583 ,  0.        ,  0.        ,  0.52383447,\n",
       "         0.        ,  8.38135149,  0.        ,  0.        ,  0.        ,\n",
       "         1.04766894,  0.        ,  0.        ,  2.35725511,  0.        ,\n",
       "         0.        ,  1.83342064,  0.        ,  0.        ,  0.        ,\n",
       "         5.50026192,  0.        ,  0.        ,  0.        ,  0.        ,\n",
       "         6.02409639,  0.        ,  0.        ,  0.        ,  0.7857517 ,\n",
       "         4.19067575,  0.        ,  0.        ,  0.        ,  0.        ,\n",
       "         3.92875851,  0.        ,  0.        ,  0.        ,  0.        ,\n",
       "         0.        ,  2.61917234,  0.        ,  0.        ,  0.        ,\n",
       "         0.        ,  0.        ,  2.35725511,  0.        ,  0.        ,\n",
       "         0.        ,  0.        ,  0.        ,  0.        ,  0.26191723,\n",
       "         1.04766894,  0.        ,  0.        ,  0.        ,  0.        ,\n",
       "         0.        ,  0.        ,  0.        ,  0.26191723,  0.        ,\n",
       "         0.        ,  0.        ,  0.        ,  0.        ,  0.        ,\n",
       "         0.        ,  0.        ,  0.52383447,  0.        ,  0.        ,\n",
       "         0.        ,  0.        ,  0.        ,  0.        ,  0.        ,\n",
       "         0.7857517 ,  0.        ,  0.        ,  0.26191723,  0.        ,\n",
       "         0.        ,  0.        ,  0.        ,  0.        ,  0.        ,\n",
       "         0.        ,  0.        ,  0.        ,  0.        ,  0.        ,\n",
       "         0.        ,  0.        ,  0.        ,  0.        ,  0.        ,\n",
       "         0.        ,  0.        ,  0.        ,  0.        ,  0.        ,\n",
       "         0.        ,  0.26191723,  0.        ,  0.        ,  0.        ,\n",
       "         0.        ,  0.26191723,  0.        ,  0.        ,  0.        ,\n",
       "         0.        ,  0.        ,  0.        ,  0.        ,  0.        ,\n",
       "         0.        ,  0.        ,  0.        ,  0.        ,  0.        ,\n",
       "         0.        ,  0.        ,  0.        ,  0.        ,  0.        ,\n",
       "         0.        ,  0.        ,  0.        ,  0.        ,  0.        ,\n",
       "         0.        ,  0.        ,  0.        ,  0.        ,  0.        ,\n",
       "         0.        ,  0.        ,  0.        ,  0.        ,  0.        ,\n",
       "         0.        ,  0.        ,  0.        ,  0.        ,  0.        ,\n",
       "         0.        ,  0.        ,  0.        ,  0.        ,  0.        ,\n",
       "         0.        ,  0.        ,  0.        ,  0.        ,  0.        ,\n",
       "         0.        ,  0.        ,  0.        ,  0.        ,  0.        ,\n",
       "         0.        ,  0.        ,  0.        ,  0.        ,  0.        ,\n",
       "         0.        ,  0.        ,  0.        ,  0.        ,  0.        ,\n",
       "         0.        ,  0.        ,  0.        ,  0.        ,  0.        ,\n",
       "         0.        ,  0.        ,  0.        ,  0.        ,  0.        ,\n",
       "         0.        ,  0.        ,  0.        ,  0.        ,  0.        ,\n",
       "         0.        ,  0.        ,  0.        ,  0.        ,  0.        ,\n",
       "         0.        ,  0.        ,  0.        ,  0.        ,  0.        ,\n",
       "         0.        ,  0.        ,  0.        ,  0.        ,  0.        ,\n",
       "         0.        ,  0.        ,  0.        ,  0.        ,  0.        ,\n",
       "         0.        ,  0.        ,  0.        ,  0.        ,  0.        ,\n",
       "         0.        ,  0.        ,  0.        ,  0.        ,  0.        ,\n",
       "         0.        ,  0.        ,  0.        ,  0.        ,  0.        ,\n",
       "         0.        ,  0.        ,  0.        ,  0.        ,  0.        ,\n",
       "         0.        ,  0.        ,  0.        ,  0.        ,  0.        ,\n",
       "         0.        ,  0.        ,  0.        ,  0.        ,  0.        ,\n",
       "         0.        ,  0.        ,  0.        ,  0.        ,  0.        ,\n",
       "         0.        ,  0.        ,  0.        ,  0.        ,  0.        ,\n",
       "         0.        ,  0.        ,  0.        ,  0.        ,  0.        ,\n",
       "         0.        ,  0.        ,  0.        ,  0.        ,  0.        ,\n",
       "         0.        ,  0.        ,  0.        ,  0.        ,  0.        ,\n",
       "         0.        ,  0.        ,  0.        ,  0.        ,  0.        ,\n",
       "         0.        ,  0.        ,  0.        ,  0.        ,  0.        ,\n",
       "         0.        ,  0.        ,  0.        ,  0.        ,  0.        ,\n",
       "         0.        ,  0.        ,  0.        ,  0.        ,  0.        ,\n",
       "         0.        ,  0.        ,  0.        ,  0.        ,  0.        ,\n",
       "         0.        ,  0.        ,  0.        ,  0.        ,  0.        ,\n",
       "         0.        ,  0.        ,  0.        ,  0.        ,  0.        ,\n",
       "         0.        ,  0.        ,  0.        ,  0.        ,  0.        ,\n",
       "         0.        ,  0.        ,  0.        ,  0.        ,  0.        ,\n",
       "         0.        ,  0.        ,  0.        ,  0.        ,  0.        ,\n",
       "         0.        ,  0.        ,  0.        ,  0.        ,  0.        ,\n",
       "         0.        ,  0.        ,  0.        ,  0.        ,  0.        ,\n",
       "         0.        ,  0.        ,  0.        ,  0.        ,  0.        ,\n",
       "         0.        ,  0.        ,  0.        ,  0.        ,  0.        ,\n",
       "         0.        ,  0.        ,  0.        ,  0.        ,  0.        ,\n",
       "         0.        ,  0.        ,  0.        ,  0.        ,  0.        ,\n",
       "         0.        ,  0.        ,  0.        ,  0.        ,  0.        ,\n",
       "         0.        ,  0.        ,  0.        ,  0.        ,  0.        ,\n",
       "         0.        ,  0.        ,  0.        ,  0.        ,  0.        ,\n",
       "         0.        ,  0.        ,  0.        ,  0.        ,  0.        ,\n",
       "         0.        ,  0.        ,  0.        ,  0.        ,  0.        ,\n",
       "         0.        ,  0.        ,  0.        ,  0.        ,  0.        ,\n",
       "         0.        ,  0.        ,  0.        ,  0.        ,  0.        ,\n",
       "         0.        ,  0.        ,  0.        ,  0.        ,  0.        ,\n",
       "         0.        ,  0.        ,  0.        ,  0.        ,  0.        ,\n",
       "         0.        ,  0.        ,  0.        ,  0.        ,  0.        ,\n",
       "         0.        ,  0.        ,  0.        ,  0.        ,  0.        ,\n",
       "         0.        ,  0.        ,  0.        ,  0.        ,  0.        ,\n",
       "         0.        ,  0.        ,  0.        ,  0.        ,  0.        ,\n",
       "         0.        ,  0.        ,  0.        ,  0.        ,  0.        ,\n",
       "         0.        ,  0.        ,  0.        ,  0.        ,  0.        ,\n",
       "         0.        ,  0.        ,  0.        ,  0.        ,  0.        ,\n",
       "         0.        ,  0.        ,  0.        ,  0.        ]),\n",
       " array([0.   , 0.002, 0.004, 0.006, 0.008, 0.01 , 0.012, 0.014, 0.016,\n",
       "        0.018, 0.02 , 0.022, 0.024, 0.026, 0.028, 0.03 , 0.032, 0.034,\n",
       "        0.036, 0.038, 0.04 , 0.042, 0.044, 0.046, 0.048, 0.05 , 0.052,\n",
       "        0.054, 0.056, 0.058, 0.06 , 0.062, 0.064, 0.066, 0.068, 0.07 ,\n",
       "        0.072, 0.074, 0.076, 0.078, 0.08 , 0.082, 0.084, 0.086, 0.088,\n",
       "        0.09 , 0.092, 0.094, 0.096, 0.098, 0.1  , 0.102, 0.104, 0.106,\n",
       "        0.108, 0.11 , 0.112, 0.114, 0.116, 0.118, 0.12 , 0.122, 0.124,\n",
       "        0.126, 0.128, 0.13 , 0.132, 0.134, 0.136, 0.138, 0.14 , 0.142,\n",
       "        0.144, 0.146, 0.148, 0.15 , 0.152, 0.154, 0.156, 0.158, 0.16 ,\n",
       "        0.162, 0.164, 0.166, 0.168, 0.17 , 0.172, 0.174, 0.176, 0.178,\n",
       "        0.18 , 0.182, 0.184, 0.186, 0.188, 0.19 , 0.192, 0.194, 0.196,\n",
       "        0.198, 0.2  , 0.202, 0.204, 0.206, 0.208, 0.21 , 0.212, 0.214,\n",
       "        0.216, 0.218, 0.22 , 0.222, 0.224, 0.226, 0.228, 0.23 , 0.232,\n",
       "        0.234, 0.236, 0.238, 0.24 , 0.242, 0.244, 0.246, 0.248, 0.25 ,\n",
       "        0.252, 0.254, 0.256, 0.258, 0.26 , 0.262, 0.264, 0.266, 0.268,\n",
       "        0.27 , 0.272, 0.274, 0.276, 0.278, 0.28 , 0.282, 0.284, 0.286,\n",
       "        0.288, 0.29 , 0.292, 0.294, 0.296, 0.298, 0.3  , 0.302, 0.304,\n",
       "        0.306, 0.308, 0.31 , 0.312, 0.314, 0.316, 0.318, 0.32 , 0.322,\n",
       "        0.324, 0.326, 0.328, 0.33 , 0.332, 0.334, 0.336, 0.338, 0.34 ,\n",
       "        0.342, 0.344, 0.346, 0.348, 0.35 , 0.352, 0.354, 0.356, 0.358,\n",
       "        0.36 , 0.362, 0.364, 0.366, 0.368, 0.37 , 0.372, 0.374, 0.376,\n",
       "        0.378, 0.38 , 0.382, 0.384, 0.386, 0.388, 0.39 , 0.392, 0.394,\n",
       "        0.396, 0.398, 0.4  , 0.402, 0.404, 0.406, 0.408, 0.41 , 0.412,\n",
       "        0.414, 0.416, 0.418, 0.42 , 0.422, 0.424, 0.426, 0.428, 0.43 ,\n",
       "        0.432, 0.434, 0.436, 0.438, 0.44 , 0.442, 0.444, 0.446, 0.448,\n",
       "        0.45 , 0.452, 0.454, 0.456, 0.458, 0.46 , 0.462, 0.464, 0.466,\n",
       "        0.468, 0.47 , 0.472, 0.474, 0.476, 0.478, 0.48 , 0.482, 0.484,\n",
       "        0.486, 0.488, 0.49 , 0.492, 0.494, 0.496, 0.498, 0.5  , 0.502,\n",
       "        0.504, 0.506, 0.508, 0.51 , 0.512, 0.514, 0.516, 0.518, 0.52 ,\n",
       "        0.522, 0.524, 0.526, 0.528, 0.53 , 0.532, 0.534, 0.536, 0.538,\n",
       "        0.54 , 0.542, 0.544, 0.546, 0.548, 0.55 , 0.552, 0.554, 0.556,\n",
       "        0.558, 0.56 , 0.562, 0.564, 0.566, 0.568, 0.57 , 0.572, 0.574,\n",
       "        0.576, 0.578, 0.58 , 0.582, 0.584, 0.586, 0.588, 0.59 , 0.592,\n",
       "        0.594, 0.596, 0.598, 0.6  , 0.602, 0.604, 0.606, 0.608, 0.61 ,\n",
       "        0.612, 0.614, 0.616, 0.618, 0.62 , 0.622, 0.624, 0.626, 0.628,\n",
       "        0.63 , 0.632, 0.634, 0.636, 0.638, 0.64 , 0.642, 0.644, 0.646,\n",
       "        0.648, 0.65 , 0.652, 0.654, 0.656, 0.658, 0.66 , 0.662, 0.664,\n",
       "        0.666, 0.668, 0.67 , 0.672, 0.674, 0.676, 0.678, 0.68 , 0.682,\n",
       "        0.684, 0.686, 0.688, 0.69 , 0.692, 0.694, 0.696, 0.698, 0.7  ,\n",
       "        0.702, 0.704, 0.706, 0.708, 0.71 , 0.712, 0.714, 0.716, 0.718,\n",
       "        0.72 , 0.722, 0.724, 0.726, 0.728, 0.73 , 0.732, 0.734, 0.736,\n",
       "        0.738, 0.74 , 0.742, 0.744, 0.746, 0.748, 0.75 , 0.752, 0.754,\n",
       "        0.756, 0.758, 0.76 , 0.762, 0.764, 0.766, 0.768, 0.77 , 0.772,\n",
       "        0.774, 0.776, 0.778, 0.78 , 0.782, 0.784, 0.786, 0.788, 0.79 ,\n",
       "        0.792, 0.794, 0.796, 0.798, 0.8  , 0.802, 0.804, 0.806, 0.808,\n",
       "        0.81 , 0.812, 0.814, 0.816, 0.818, 0.82 , 0.822, 0.824, 0.826,\n",
       "        0.828, 0.83 , 0.832, 0.834, 0.836, 0.838, 0.84 , 0.842, 0.844,\n",
       "        0.846, 0.848, 0.85 , 0.852, 0.854, 0.856, 0.858, 0.86 , 0.862,\n",
       "        0.864, 0.866, 0.868, 0.87 , 0.872, 0.874, 0.876, 0.878, 0.88 ,\n",
       "        0.882, 0.884, 0.886, 0.888, 0.89 , 0.892, 0.894, 0.896, 0.898,\n",
       "        0.9  , 0.902, 0.904, 0.906, 0.908, 0.91 , 0.912, 0.914, 0.916,\n",
       "        0.918, 0.92 , 0.922, 0.924, 0.926, 0.928, 0.93 , 0.932, 0.934,\n",
       "        0.936, 0.938, 0.94 , 0.942, 0.944, 0.946, 0.948, 0.95 , 0.952,\n",
       "        0.954, 0.956, 0.958, 0.96 , 0.962, 0.964, 0.966, 0.968, 0.97 ,\n",
       "        0.972, 0.974, 0.976, 0.978, 0.98 , 0.982, 0.984, 0.986, 0.988,\n",
       "        0.99 , 0.992, 0.994, 0.996, 0.998]),\n",
       " <a list of 499 Patch objects>)"
      ]
     },
     "execution_count": 134,
     "metadata": {},
     "output_type": "execute_result"
    },
    {
     "name": "stderr",
     "output_type": "stream",
     "text": [
      "No handles with labels found to put in legend.\n"
     ]
    },
    {
     "data": {
      "text/plain": [
       "<matplotlib.legend.Legend at 0x1d2cfd10f08>"
      ]
     },
     "execution_count": 134,
     "metadata": {},
     "output_type": "execute_result"
    },
    {
     "data": {
      "text/plain": [
       "Text(0.5, 0, 'salary-group')"
      ]
     },
     "execution_count": 134,
     "metadata": {},
     "output_type": "execute_result"
    },
    {
     "data": {
      "text/plain": [
       "Text(0, 0.5, 'salary')"
      ]
     },
     "execution_count": 134,
     "metadata": {},
     "output_type": "execute_result"
    },
    {
     "data": {
      "text/plain": [
       "Text(0.5, 1.0, 'Hist')"
      ]
     },
     "execution_count": 134,
     "metadata": {},
     "output_type": "execute_result"
    },
    {
     "data": {
      "text/plain": [
       "<Figure size 432x288 with 0 Axes>"
      ]
     },
     "metadata": {},
     "output_type": "display_data"
    },
    {
     "data": {
      "image/png": "[encoded data removed]",
      "text/plain": [
       "<Figure size 2880x2160 with 1 Axes>"
      ]
     },
     "metadata": {
      "needs_background": "light"
     },
     "output_type": "display_data"
    },
    {
     "data": {
      "text/plain": [
       "<Figure size 2880x2160 with 0 Axes>"
      ]
     },
     "execution_count": 134,
     "metadata": {},
     "output_type": "execute_result"
    },
    {
     "data": {
      "text/plain": [
       "(array([ 0.        ,  0.        ,  0.        ,  0.        ,  0.        ,\n",
       "         0.        ,  0.        ,  0.        ,  0.        ,  0.        ,\n",
       "         0.        ,  0.        ,  0.        ,  0.        ,  0.        ,\n",
       "         0.        ,  0.        ,  0.        ,  0.        ,  0.        ,\n",
       "         0.        ,  0.        ,  0.        ,  0.        ,  0.        ,\n",
       "         0.        ,  0.        ,  0.        ,  0.        ,  0.73028238,\n",
       "         0.73028238,  3.16455696,  3.16455696,  9.73709834, 14.60564752,\n",
       "        23.85589094,  0.        , 29.69814995, 38.94839338, 10.95423564,\n",
       "        35.05355404, 54.28432327,  0.        , 51.60662123,  0.        ,\n",
       "        53.06718598,  0.        , 41.62609542,  0.        ,  1.94741967,\n",
       "        28.96786758,  0.        , 21.42161636,  0.        ,  0.        ,\n",
       "        18.74391431,  0.        ,  0.        ,  9.49367089,  0.        ,\n",
       "         0.48685492,  0.        ,  6.81596884,  0.        ,  0.73028238,\n",
       "         0.        ,  5.84225901,  0.        ,  0.73028238,  0.        ,\n",
       "         0.        ,  3.65141188,  0.        ,  0.        ,  1.46056475,\n",
       "         0.        ,  3.40798442,  0.        ,  0.        ,  1.70399221,\n",
       "         5.35540409,  0.        ,  0.        ,  3.40798442,  0.        ,\n",
       "         0.        ,  3.40798442,  0.        ,  0.        ,  0.        ,\n",
       "         4.1382668 ,  0.        ,  0.        ,  0.        ,  0.        ,\n",
       "         1.70399221,  0.        ,  0.        ,  0.        ,  0.24342746,\n",
       "         1.70399221,  0.        ,  0.        ,  0.        ,  0.        ,\n",
       "         0.24342746,  0.        ,  0.        ,  0.        ,  0.        ,\n",
       "         0.        ,  0.97370983,  0.        ,  0.        ,  0.        ,\n",
       "         0.        ,  0.        ,  0.24342746,  0.        ,  0.        ,\n",
       "         0.24342746,  0.        ,  0.        ,  0.        ,  0.        ,\n",
       "         0.        ,  0.        ,  0.        ,  0.        ,  0.        ,\n",
       "         0.48685492,  0.        ,  0.        ,  0.24342746,  0.        ,\n",
       "         0.        ,  0.        ,  0.        ,  0.        ,  0.        ,\n",
       "         0.        ,  0.        ,  0.24342746,  0.        ,  0.        ,\n",
       "         0.        ,  0.        ,  0.        ,  0.        ,  0.        ,\n",
       "         0.24342746,  0.        ,  0.        ,  0.        ,  0.        ,\n",
       "         0.        ,  0.        ,  0.24342746,  0.        ,  0.        ,\n",
       "         0.        ,  0.        ,  0.        ,  0.        ,  0.        ,\n",
       "         0.        ,  0.        ,  0.        ,  0.        ,  0.        ,\n",
       "         0.        ,  0.        ,  0.        ,  0.        ,  0.        ,\n",
       "         0.        ,  0.        ,  0.        ,  0.        ,  0.        ,\n",
       "         0.        ,  0.        ,  0.        ,  0.        ,  0.        ,\n",
       "         0.        ,  0.        ,  0.        ,  0.        ,  0.        ,\n",
       "         0.        ,  0.        ,  0.        ,  0.        ,  0.        ,\n",
       "         0.        ,  0.        ,  0.        ,  0.        ,  0.        ,\n",
       "         0.24342746,  0.        ,  0.        ,  0.        ,  0.        ,\n",
       "         0.        ,  0.        ,  0.        ,  0.        ,  0.        ,\n",
       "         0.        ,  0.        ,  0.        ,  0.        ,  0.        ,\n",
       "         0.        ,  0.        ,  0.        ,  0.        ,  0.        ,\n",
       "         0.        ,  0.        ,  0.        ,  0.        ,  0.        ,\n",
       "         0.        ,  0.        ,  0.        ,  0.        ,  0.        ,\n",
       "         0.        ,  0.        ,  0.        ,  0.        ,  0.        ,\n",
       "         0.        ,  0.        ,  0.        ,  0.        ,  0.        ,\n",
       "         0.        ,  0.        ,  0.        ,  0.        ,  0.        ,\n",
       "         0.        ,  0.        ,  0.        ,  0.        ,  0.        ,\n",
       "         0.        ,  0.        ,  0.        ,  0.        ,  0.        ,\n",
       "         0.        ,  0.        ,  0.        ,  0.        ,  0.        ,\n",
       "         0.        ,  0.        ,  0.        ,  0.        ,  0.        ,\n",
       "         0.        ,  0.        ,  0.        ,  0.        ,  0.        ,\n",
       "         0.        ,  0.        ,  0.        ,  0.        ,  0.        ,\n",
       "         0.        ,  0.        ,  0.        ,  0.        ,  0.        ,\n",
       "         0.        ,  0.        ,  0.        ,  0.        ,  0.        ,\n",
       "         0.        ,  0.        ,  0.        ,  0.        ,  0.        ,\n",
       "         0.        ,  0.        ,  0.        ,  0.        ,  0.        ,\n",
       "         0.        ,  0.        ,  0.        ,  0.        ,  0.        ,\n",
       "         0.        ,  0.        ,  0.        ,  0.        ,  0.        ,\n",
       "         0.        ,  0.        ,  0.        ,  0.        ,  0.        ,\n",
       "         0.        ,  0.        ,  0.        ,  0.        ,  0.        ,\n",
       "         0.        ,  0.        ,  0.        ,  0.        ,  0.        ,\n",
       "         0.        ,  0.        ,  0.        ,  0.        ,  0.        ,\n",
       "         0.        ,  0.        ,  0.        ,  0.        ,  0.        ,\n",
       "         0.        ,  0.        ,  0.        ,  0.        ,  0.        ,\n",
       "         0.        ,  0.        ,  0.        ,  0.        ,  0.        ,\n",
       "         0.        ,  0.        ,  0.        ,  0.        ,  0.        ,\n",
       "         0.        ,  0.        ,  0.        ,  0.        ,  0.        ,\n",
       "         0.        ,  0.        ,  0.        ,  0.        ,  0.        ,\n",
       "         0.        ,  0.        ,  0.        ,  0.        ,  0.        ,\n",
       "         0.        ,  0.        ,  0.        ,  0.        ,  0.        ,\n",
       "         0.        ,  0.        ,  0.        ,  0.        ,  0.        ,\n",
       "         0.        ,  0.        ,  0.        ,  0.        ,  0.        ,\n",
       "         0.        ,  0.        ,  0.        ,  0.        ,  0.        ,\n",
       "         0.        ,  0.        ,  0.        ,  0.        ,  0.        ,\n",
       "         0.        ,  0.        ,  0.        ,  0.        ,  0.        ,\n",
       "         0.        ,  0.        ,  0.        ,  0.        ,  0.        ,\n",
       "         0.        ,  0.        ,  0.        ,  0.        ,  0.        ,\n",
       "         0.        ,  0.        ,  0.        ,  0.        ,  0.        ,\n",
       "         0.        ,  0.        ,  0.        ,  0.        ,  0.        ,\n",
       "         0.        ,  0.        ,  0.        ,  0.        ,  0.        ,\n",
       "         0.        ,  0.        ,  0.        ,  0.        ,  0.        ,\n",
       "         0.        ,  0.        ,  0.        ,  0.        ,  0.        ,\n",
       "         0.        ,  0.        ,  0.        ,  0.        ,  0.        ,\n",
       "         0.        ,  0.        ,  0.        ,  0.        ,  0.        ,\n",
       "         0.        ,  0.        ,  0.        ,  0.        ,  0.        ,\n",
       "         0.        ,  0.        ,  0.        ,  0.        ,  0.        ,\n",
       "         0.        ,  0.        ,  0.        ,  0.        ,  0.        ,\n",
       "         0.        ,  0.        ,  0.        ,  0.        ,  0.        ,\n",
       "         0.        ,  0.        ,  0.        ,  0.        ,  0.        ,\n",
       "         0.        ,  0.        ,  0.        ,  0.        ,  0.        ,\n",
       "         0.        ,  0.        ,  0.        ,  0.        ,  0.        ,\n",
       "         0.        ,  0.        ,  0.        ,  0.        ,  0.        ,\n",
       "         0.        ,  0.        ,  0.        ,  0.        ,  0.        ,\n",
       "         0.        ,  0.        ,  0.        ,  0.        ,  0.        ,\n",
       "         0.        ,  0.        ,  0.        ,  0.        ,  0.        ,\n",
       "         0.        ,  0.        ,  0.        ,  0.        ,  0.        ,\n",
       "         0.        ,  0.        ,  0.        ,  0.        ]),\n",
       " array([0.   , 0.002, 0.004, 0.006, 0.008, 0.01 , 0.012, 0.014, 0.016,\n",
       "        0.018, 0.02 , 0.022, 0.024, 0.026, 0.028, 0.03 , 0.032, 0.034,\n",
       "        0.036, 0.038, 0.04 , 0.042, 0.044, 0.046, 0.048, 0.05 , 0.052,\n",
       "        0.054, 0.056, 0.058, 0.06 , 0.062, 0.064, 0.066, 0.068, 0.07 ,\n",
       "        0.072, 0.074, 0.076, 0.078, 0.08 , 0.082, 0.084, 0.086, 0.088,\n",
       "        0.09 , 0.092, 0.094, 0.096, 0.098, 0.1  , 0.102, 0.104, 0.106,\n",
       "        0.108, 0.11 , 0.112, 0.114, 0.116, 0.118, 0.12 , 0.122, 0.124,\n",
       "        0.126, 0.128, 0.13 , 0.132, 0.134, 0.136, 0.138, 0.14 , 0.142,\n",
       "        0.144, 0.146, 0.148, 0.15 , 0.152, 0.154, 0.156, 0.158, 0.16 ,\n",
       "        0.162, 0.164, 0.166, 0.168, 0.17 , 0.172, 0.174, 0.176, 0.178,\n",
       "        0.18 , 0.182, 0.184, 0.186, 0.188, 0.19 , 0.192, 0.194, 0.196,\n",
       "        0.198, 0.2  , 0.202, 0.204, 0.206, 0.208, 0.21 , 0.212, 0.214,\n",
       "        0.216, 0.218, 0.22 , 0.222, 0.224, 0.226, 0.228, 0.23 , 0.232,\n",
       "        0.234, 0.236, 0.238, 0.24 , 0.242, 0.244, 0.246, 0.248, 0.25 ,\n",
       "        0.252, 0.254, 0.256, 0.258, 0.26 , 0.262, 0.264, 0.266, 0.268,\n",
       "        0.27 , 0.272, 0.274, 0.276, 0.278, 0.28 , 0.282, 0.284, 0.286,\n",
       "        0.288, 0.29 , 0.292, 0.294, 0.296, 0.298, 0.3  , 0.302, 0.304,\n",
       "        0.306, 0.308, 0.31 , 0.312, 0.314, 0.316, 0.318, 0.32 , 0.322,\n",
       "        0.324, 0.326, 0.328, 0.33 , 0.332, 0.334, 0.336, 0.338, 0.34 ,\n",
       "        0.342, 0.344, 0.346, 0.348, 0.35 , 0.352, 0.354, 0.356, 0.358,\n",
       "        0.36 , 0.362, 0.364, 0.366, 0.368, 0.37 , 0.372, 0.374, 0.376,\n",
       "        0.378, 0.38 , 0.382, 0.384, 0.386, 0.388, 0.39 , 0.392, 0.394,\n",
       "        0.396, 0.398, 0.4  , 0.402, 0.404, 0.406, 0.408, 0.41 , 0.412,\n",
       "        0.414, 0.416, 0.418, 0.42 , 0.422, 0.424, 0.426, 0.428, 0.43 ,\n",
       "        0.432, 0.434, 0.436, 0.438, 0.44 , 0.442, 0.444, 0.446, 0.448,\n",
       "        0.45 , 0.452, 0.454, 0.456, 0.458, 0.46 , 0.462, 0.464, 0.466,\n",
       "        0.468, 0.47 , 0.472, 0.474, 0.476, 0.478, 0.48 , 0.482, 0.484,\n",
       "        0.486, 0.488, 0.49 , 0.492, 0.494, 0.496, 0.498, 0.5  , 0.502,\n",
       "        0.504, 0.506, 0.508, 0.51 , 0.512, 0.514, 0.516, 0.518, 0.52 ,\n",
       "        0.522, 0.524, 0.526, 0.528, 0.53 , 0.532, 0.534, 0.536, 0.538,\n",
       "        0.54 , 0.542, 0.544, 0.546, 0.548, 0.55 , 0.552, 0.554, 0.556,\n",
       "        0.558, 0.56 , 0.562, 0.564, 0.566, 0.568, 0.57 , 0.572, 0.574,\n",
       "        0.576, 0.578, 0.58 , 0.582, 0.584, 0.586, 0.588, 0.59 , 0.592,\n",
       "        0.594, 0.596, 0.598, 0.6  , 0.602, 0.604, 0.606, 0.608, 0.61 ,\n",
       "        0.612, 0.614, 0.616, 0.618, 0.62 , 0.622, 0.624, 0.626, 0.628,\n",
       "        0.63 , 0.632, 0.634, 0.636, 0.638, 0.64 , 0.642, 0.644, 0.646,\n",
       "        0.648, 0.65 , 0.652, 0.654, 0.656, 0.658, 0.66 , 0.662, 0.664,\n",
       "        0.666, 0.668, 0.67 , 0.672, 0.674, 0.676, 0.678, 0.68 , 0.682,\n",
       "        0.684, 0.686, 0.688, 0.69 , 0.692, 0.694, 0.696, 0.698, 0.7  ,\n",
       "        0.702, 0.704, 0.706, 0.708, 0.71 , 0.712, 0.714, 0.716, 0.718,\n",
       "        0.72 , 0.722, 0.724, 0.726, 0.728, 0.73 , 0.732, 0.734, 0.736,\n",
       "        0.738, 0.74 , 0.742, 0.744, 0.746, 0.748, 0.75 , 0.752, 0.754,\n",
       "        0.756, 0.758, 0.76 , 0.762, 0.764, 0.766, 0.768, 0.77 , 0.772,\n",
       "        0.774, 0.776, 0.778, 0.78 , 0.782, 0.784, 0.786, 0.788, 0.79 ,\n",
       "        0.792, 0.794, 0.796, 0.798, 0.8  , 0.802, 0.804, 0.806, 0.808,\n",
       "        0.81 , 0.812, 0.814, 0.816, 0.818, 0.82 , 0.822, 0.824, 0.826,\n",
       "        0.828, 0.83 , 0.832, 0.834, 0.836, 0.838, 0.84 , 0.842, 0.844,\n",
       "        0.846, 0.848, 0.85 , 0.852, 0.854, 0.856, 0.858, 0.86 , 0.862,\n",
       "        0.864, 0.866, 0.868, 0.87 , 0.872, 0.874, 0.876, 0.878, 0.88 ,\n",
       "        0.882, 0.884, 0.886, 0.888, 0.89 , 0.892, 0.894, 0.896, 0.898,\n",
       "        0.9  , 0.902, 0.904, 0.906, 0.908, 0.91 , 0.912, 0.914, 0.916,\n",
       "        0.918, 0.92 , 0.922, 0.924, 0.926, 0.928, 0.93 , 0.932, 0.934,\n",
       "        0.936, 0.938, 0.94 , 0.942, 0.944, 0.946, 0.948, 0.95 , 0.952,\n",
       "        0.954, 0.956, 0.958, 0.96 , 0.962, 0.964, 0.966, 0.968, 0.97 ,\n",
       "        0.972, 0.974, 0.976, 0.978, 0.98 , 0.982, 0.984, 0.986, 0.988,\n",
       "        0.99 , 0.992, 0.994, 0.996, 0.998]),\n",
       " <a list of 499 Patch objects>)"
      ]
     },
     "execution_count": 134,
     "metadata": {},
     "output_type": "execute_result"
    },
    {
     "name": "stderr",
     "output_type": "stream",
     "text": [
      "No handles with labels found to put in legend.\n"
     ]
    },
    {
     "data": {
      "text/plain": [
       "<matplotlib.legend.Legend at 0x1d2cf5e78c8>"
      ]
     },
     "execution_count": 134,
     "metadata": {},
     "output_type": "execute_result"
    },
    {
     "data": {
      "text/plain": [
       "Text(0.5, 0, 'salary-group')"
      ]
     },
     "execution_count": 134,
     "metadata": {},
     "output_type": "execute_result"
    },
    {
     "data": {
      "text/plain": [
       "Text(0, 0.5, 'salary')"
      ]
     },
     "execution_count": 134,
     "metadata": {},
     "output_type": "execute_result"
    },
    {
     "data": {
      "text/plain": [
       "Text(0.5, 1.0, 'Hist')"
      ]
     },
     "execution_count": 134,
     "metadata": {},
     "output_type": "execute_result"
    },
    {
     "data": {
      "text/plain": [
       "<Figure size 432x288 with 0 Axes>"
      ]
     },
     "metadata": {},
     "output_type": "display_data"
    },
    {
     "data": {
      "image/png": "[encoded data removed]",
      "text/plain": [
       "<Figure size 2880x2160 with 1 Axes>"
      ]
     },
     "metadata": {
      "needs_background": "light"
     },
     "output_type": "display_data"
    },
    {
     "data": {
      "text/plain": [
       "<Figure size 2880x2160 with 0 Axes>"
      ]
     },
     "execution_count": 134,
     "metadata": {},
     "output_type": "execute_result"
    },
    {
     "data": {
      "text/plain": [
       "(array([ 0.        ,  0.        ,  0.        ,  0.        ,  0.        ,\n",
       "         0.        ,  0.        ,  0.        ,  0.        ,  0.        ,\n",
       "         0.        ,  0.        ,  0.        ,  0.        ,  0.        ,\n",
       "         0.        ,  0.        ,  0.        ,  0.        ,  0.        ,\n",
       "         0.        ,  0.        ,  0.        ,  0.        ,  0.23518344,\n",
       "         0.        ,  0.23518344,  4.70366886,  3.52775165,  7.05550329,\n",
       "        13.17027281, 17.87394167, 25.16462841, 28.69238006, 41.39228598,\n",
       "        47.74223895,  0.        , 47.03668862, 48.21260583, 11.28880527,\n",
       "        37.39416745, 34.80714958,  0.        , 30.5738476 ,  0.        ,\n",
       "        17.87394167,  0.        , 16.46284102,  0.        ,  0.23518344,\n",
       "        12.93508937,  0.        ,  6.34995296,  0.        ,  0.47036689,\n",
       "         6.34995296,  0.        ,  1.17591722,  3.99811853,  0.        ,\n",
       "         1.6462841 ,  0.        ,  1.6462841 ,  0.        ,  1.88146754,\n",
       "         0.        ,  3.05738476,  0.        ,  4.70366886,  0.        ,\n",
       "         0.        ,  4.23330198,  0.        ,  0.        ,  3.2925682 ,\n",
       "         0.        ,  3.52775165,  0.        ,  0.        ,  0.70555033,\n",
       "         2.11665099,  0.        ,  0.        ,  2.35183443,  0.        ,\n",
       "         0.        ,  0.94073377,  0.        ,  0.23518344,  0.        ,\n",
       "         1.6462841 ,  0.        ,  0.        ,  0.        ,  0.        ,\n",
       "         0.23518344,  0.        ,  0.        ,  0.        ,  0.23518344,\n",
       "         0.        ,  0.        ,  0.        ,  0.47036689,  0.        ,\n",
       "         0.23518344,  0.        ,  0.        ,  0.        ,  0.        ,\n",
       "         0.        ,  0.        ,  0.        ,  0.        ,  0.        ,\n",
       "         0.47036689,  0.        ,  0.47036689,  0.        ,  0.        ,\n",
       "         0.        ,  0.        ,  0.        ,  0.        ,  0.        ,\n",
       "         0.        ,  0.        ,  0.        ,  0.        ,  0.        ,\n",
       "         0.47036689,  0.        ,  0.        ,  0.        ,  0.        ,\n",
       "         0.        ,  0.23518344,  0.        ,  0.        ,  0.        ,\n",
       "         0.        ,  0.        ,  0.        ,  0.        ,  0.        ,\n",
       "         0.        ,  0.        ,  0.        ,  0.        ,  0.        ,\n",
       "         0.        ,  0.        ,  0.        ,  0.        ,  0.        ,\n",
       "         0.        ,  0.        ,  0.        ,  0.        ,  0.        ,\n",
       "         0.        ,  0.        ,  0.        ,  0.        ,  0.        ,\n",
       "         0.        ,  0.        ,  0.        ,  0.        ,  0.        ,\n",
       "         0.        ,  0.        ,  0.        ,  0.        ,  0.        ,\n",
       "         0.        ,  0.        ,  0.        ,  0.23518344,  0.        ,\n",
       "         0.        ,  0.        ,  0.        ,  0.        ,  0.        ,\n",
       "         0.        ,  0.        ,  0.        ,  0.        ,  0.        ,\n",
       "         0.        ,  0.        ,  0.        ,  0.        ,  0.        ,\n",
       "         0.        ,  0.        ,  0.        ,  0.        ,  0.        ,\n",
       "         0.        ,  0.        ,  0.        ,  0.        ,  0.        ,\n",
       "         0.        ,  0.        ,  0.        ,  0.        ,  0.        ,\n",
       "         0.        ,  0.        ,  0.        ,  0.        ,  0.        ,\n",
       "         0.        ,  0.        ,  0.        ,  0.        ,  0.        ,\n",
       "         0.        ,  0.        ,  0.        ,  0.        ,  0.        ,\n",
       "         0.        ,  0.        ,  0.        ,  0.        ,  0.        ,\n",
       "         0.        ,  0.        ,  0.        ,  0.        ,  0.        ,\n",
       "         0.        ,  0.        ,  0.        ,  0.        ,  0.        ,\n",
       "         0.        ,  0.        ,  0.        ,  0.        ,  0.        ,\n",
       "         0.        ,  0.        ,  0.        ,  0.        ,  0.        ,\n",
       "         0.        ,  0.        ,  0.        ,  0.        ,  0.        ,\n",
       "         0.        ,  0.        ,  0.        ,  0.        ,  0.        ,\n",
       "         0.        ,  0.        ,  0.        ,  0.        ,  0.        ,\n",
       "         0.        ,  0.        ,  0.        ,  0.        ,  0.        ,\n",
       "         0.        ,  0.        ,  0.        ,  0.        ,  0.        ,\n",
       "         0.        ,  0.        ,  0.        ,  0.        ,  0.        ,\n",
       "         0.        ,  0.        ,  0.        ,  0.        ,  0.        ,\n",
       "         0.        ,  0.        ,  0.        ,  0.        ,  0.        ,\n",
       "         0.        ,  0.        ,  0.        ,  0.        ,  0.        ,\n",
       "         0.        ,  0.        ,  0.        ,  0.        ,  0.        ,\n",
       "         0.        ,  0.        ,  0.        ,  0.        ,  0.        ,\n",
       "         0.        ,  0.        ,  0.        ,  0.        ,  0.        ,\n",
       "         0.        ,  0.        ,  0.        ,  0.        ,  0.        ,\n",
       "         0.        ,  0.        ,  0.        ,  0.        ,  0.        ,\n",
       "         0.        ,  0.        ,  0.        ,  0.        ,  0.        ,\n",
       "         0.        ,  0.        ,  0.        ,  0.        ,  0.        ,\n",
       "         0.        ,  0.        ,  0.        ,  0.        ,  0.        ,\n",
       "         0.        ,  0.        ,  0.        ,  0.        ,  0.        ,\n",
       "         0.        ,  0.        ,  0.        ,  0.        ,  0.        ,\n",
       "         0.        ,  0.        ,  0.        ,  0.        ,  0.        ,\n",
       "         0.        ,  0.        ,  0.        ,  0.        ,  0.        ,\n",
       "         0.        ,  0.        ,  0.        ,  0.        ,  0.        ,\n",
       "         0.        ,  0.        ,  0.        ,  0.        ,  0.        ,\n",
       "         0.        ,  0.        ,  0.        ,  0.        ,  0.        ,\n",
       "         0.        ,  0.        ,  0.        ,  0.        ,  0.        ,\n",
       "         0.        ,  0.        ,  0.        ,  0.        ,  0.        ,\n",
       "         0.        ,  0.        ,  0.        ,  0.        ,  0.        ,\n",
       "         0.        ,  0.        ,  0.        ,  0.        ,  0.        ,\n",
       "         0.        ,  0.        ,  0.        ,  0.        ,  0.        ,\n",
       "         0.        ,  0.        ,  0.        ,  0.        ,  0.        ,\n",
       "         0.        ,  0.        ,  0.        ,  0.        ,  0.        ,\n",
       "         0.        ,  0.        ,  0.        ,  0.        ,  0.        ,\n",
       "         0.        ,  0.        ,  0.        ,  0.        ,  0.        ,\n",
       "         0.        ,  0.        ,  0.        ,  0.        ,  0.        ,\n",
       "         0.        ,  0.        ,  0.        ,  0.        ,  0.        ,\n",
       "         0.        ,  0.        ,  0.        ,  0.        ,  0.        ,\n",
       "         0.        ,  0.        ,  0.        ,  0.        ,  0.        ,\n",
       "         0.        ,  0.        ,  0.        ,  0.        ,  0.        ,\n",
       "         0.        ,  0.        ,  0.        ,  0.        ,  0.        ,\n",
       "         0.        ,  0.        ,  0.        ,  0.        ,  0.        ,\n",
       "         0.        ,  0.        ,  0.        ,  0.        ,  0.        ,\n",
       "         0.        ,  0.        ,  0.        ,  0.        ,  0.        ,\n",
       "         0.        ,  0.        ,  0.        ,  0.        ,  0.        ,\n",
       "         0.        ,  0.        ,  0.        ,  0.        ,  0.        ,\n",
       "         0.        ,  0.        ,  0.        ,  0.        ,  0.        ,\n",
       "         0.        ,  0.        ,  0.        ,  0.        ,  0.        ,\n",
       "         0.        ,  0.        ,  0.        ,  0.        ,  0.        ,\n",
       "         0.        ,  0.        ,  0.        ,  0.        ,  0.        ,\n",
       "         0.        ,  0.        ,  0.        ,  0.        ,  0.        ,\n",
       "         0.        ,  0.        ,  0.        ,  0.        ]),\n",
       " array([0.   , 0.002, 0.004, 0.006, 0.008, 0.01 , 0.012, 0.014, 0.016,\n",
       "        0.018, 0.02 , 0.022, 0.024, 0.026, 0.028, 0.03 , 0.032, 0.034,\n",
       "        0.036, 0.038, 0.04 , 0.042, 0.044, 0.046, 0.048, 0.05 , 0.052,\n",
       "        0.054, 0.056, 0.058, 0.06 , 0.062, 0.064, 0.066, 0.068, 0.07 ,\n",
       "        0.072, 0.074, 0.076, 0.078, 0.08 , 0.082, 0.084, 0.086, 0.088,\n",
       "        0.09 , 0.092, 0.094, 0.096, 0.098, 0.1  , 0.102, 0.104, 0.106,\n",
       "        0.108, 0.11 , 0.112, 0.114, 0.116, 0.118, 0.12 , 0.122, 0.124,\n",
       "        0.126, 0.128, 0.13 , 0.132, 0.134, 0.136, 0.138, 0.14 , 0.142,\n",
       "        0.144, 0.146, 0.148, 0.15 , 0.152, 0.154, 0.156, 0.158, 0.16 ,\n",
       "        0.162, 0.164, 0.166, 0.168, 0.17 , 0.172, 0.174, 0.176, 0.178,\n",
       "        0.18 , 0.182, 0.184, 0.186, 0.188, 0.19 , 0.192, 0.194, 0.196,\n",
       "        0.198, 0.2  , 0.202, 0.204, 0.206, 0.208, 0.21 , 0.212, 0.214,\n",
       "        0.216, 0.218, 0.22 , 0.222, 0.224, 0.226, 0.228, 0.23 , 0.232,\n",
       "        0.234, 0.236, 0.238, 0.24 , 0.242, 0.244, 0.246, 0.248, 0.25 ,\n",
       "        0.252, 0.254, 0.256, 0.258, 0.26 , 0.262, 0.264, 0.266, 0.268,\n",
       "        0.27 , 0.272, 0.274, 0.276, 0.278, 0.28 , 0.282, 0.284, 0.286,\n",
       "        0.288, 0.29 , 0.292, 0.294, 0.296, 0.298, 0.3  , 0.302, 0.304,\n",
       "        0.306, 0.308, 0.31 , 0.312, 0.314, 0.316, 0.318, 0.32 , 0.322,\n",
       "        0.324, 0.326, 0.328, 0.33 , 0.332, 0.334, 0.336, 0.338, 0.34 ,\n",
       "        0.342, 0.344, 0.346, 0.348, 0.35 , 0.352, 0.354, 0.356, 0.358,\n",
       "        0.36 , 0.362, 0.364, 0.366, 0.368, 0.37 , 0.372, 0.374, 0.376,\n",
       "        0.378, 0.38 , 0.382, 0.384, 0.386, 0.388, 0.39 , 0.392, 0.394,\n",
       "        0.396, 0.398, 0.4  , 0.402, 0.404, 0.406, 0.408, 0.41 , 0.412,\n",
       "        0.414, 0.416, 0.418, 0.42 , 0.422, 0.424, 0.426, 0.428, 0.43 ,\n",
       "        0.432, 0.434, 0.436, 0.438, 0.44 , 0.442, 0.444, 0.446, 0.448,\n",
       "        0.45 , 0.452, 0.454, 0.456, 0.458, 0.46 , 0.462, 0.464, 0.466,\n",
       "        0.468, 0.47 , 0.472, 0.474, 0.476, 0.478, 0.48 , 0.482, 0.484,\n",
       "        0.486, 0.488, 0.49 , 0.492, 0.494, 0.496, 0.498, 0.5  , 0.502,\n",
       "        0.504, 0.506, 0.508, 0.51 , 0.512, 0.514, 0.516, 0.518, 0.52 ,\n",
       "        0.522, 0.524, 0.526, 0.528, 0.53 , 0.532, 0.534, 0.536, 0.538,\n",
       "        0.54 , 0.542, 0.544, 0.546, 0.548, 0.55 , 0.552, 0.554, 0.556,\n",
       "        0.558, 0.56 , 0.562, 0.564, 0.566, 0.568, 0.57 , 0.572, 0.574,\n",
       "        0.576, 0.578, 0.58 , 0.582, 0.584, 0.586, 0.588, 0.59 , 0.592,\n",
       "        0.594, 0.596, 0.598, 0.6  , 0.602, 0.604, 0.606, 0.608, 0.61 ,\n",
       "        0.612, 0.614, 0.616, 0.618, 0.62 , 0.622, 0.624, 0.626, 0.628,\n",
       "        0.63 , 0.632, 0.634, 0.636, 0.638, 0.64 , 0.642, 0.644, 0.646,\n",
       "        0.648, 0.65 , 0.652, 0.654, 0.656, 0.658, 0.66 , 0.662, 0.664,\n",
       "        0.666, 0.668, 0.67 , 0.672, 0.674, 0.676, 0.678, 0.68 , 0.682,\n",
       "        0.684, 0.686, 0.688, 0.69 , 0.692, 0.694, 0.696, 0.698, 0.7  ,\n",
       "        0.702, 0.704, 0.706, 0.708, 0.71 , 0.712, 0.714, 0.716, 0.718,\n",
       "        0.72 , 0.722, 0.724, 0.726, 0.728, 0.73 , 0.732, 0.734, 0.736,\n",
       "        0.738, 0.74 , 0.742, 0.744, 0.746, 0.748, 0.75 , 0.752, 0.754,\n",
       "        0.756, 0.758, 0.76 , 0.762, 0.764, 0.766, 0.768, 0.77 , 0.772,\n",
       "        0.774, 0.776, 0.778, 0.78 , 0.782, 0.784, 0.786, 0.788, 0.79 ,\n",
       "        0.792, 0.794, 0.796, 0.798, 0.8  , 0.802, 0.804, 0.806, 0.808,\n",
       "        0.81 , 0.812, 0.814, 0.816, 0.818, 0.82 , 0.822, 0.824, 0.826,\n",
       "        0.828, 0.83 , 0.832, 0.834, 0.836, 0.838, 0.84 , 0.842, 0.844,\n",
       "        0.846, 0.848, 0.85 , 0.852, 0.854, 0.856, 0.858, 0.86 , 0.862,\n",
       "        0.864, 0.866, 0.868, 0.87 , 0.872, 0.874, 0.876, 0.878, 0.88 ,\n",
       "        0.882, 0.884, 0.886, 0.888, 0.89 , 0.892, 0.894, 0.896, 0.898,\n",
       "        0.9  , 0.902, 0.904, 0.906, 0.908, 0.91 , 0.912, 0.914, 0.916,\n",
       "        0.918, 0.92 , 0.922, 0.924, 0.926, 0.928, 0.93 , 0.932, 0.934,\n",
       "        0.936, 0.938, 0.94 , 0.942, 0.944, 0.946, 0.948, 0.95 , 0.952,\n",
       "        0.954, 0.956, 0.958, 0.96 , 0.962, 0.964, 0.966, 0.968, 0.97 ,\n",
       "        0.972, 0.974, 0.976, 0.978, 0.98 , 0.982, 0.984, 0.986, 0.988,\n",
       "        0.99 , 0.992, 0.994, 0.996, 0.998]),\n",
       " <a list of 499 Patch objects>)"
      ]
     },
     "execution_count": 134,
     "metadata": {},
     "output_type": "execute_result"
    },
    {
     "name": "stderr",
     "output_type": "stream",
     "text": [
      "No handles with labels found to put in legend.\n"
     ]
    },
    {
     "data": {
      "text/plain": [
       "<matplotlib.legend.Legend at 0x1d2d377bc48>"
      ]
     },
     "execution_count": 134,
     "metadata": {},
     "output_type": "execute_result"
    },
    {
     "data": {
      "text/plain": [
       "Text(0.5, 0, 'salary-group')"
      ]
     },
     "execution_count": 134,
     "metadata": {},
     "output_type": "execute_result"
    },
    {
     "data": {
      "text/plain": [
       "Text(0, 0.5, 'salary')"
      ]
     },
     "execution_count": 134,
     "metadata": {},
     "output_type": "execute_result"
    },
    {
     "data": {
      "text/plain": [
       "Text(0.5, 1.0, 'Hist')"
      ]
     },
     "execution_count": 134,
     "metadata": {},
     "output_type": "execute_result"
    },
    {
     "data": {
      "text/plain": [
       "<Figure size 432x288 with 0 Axes>"
      ]
     },
     "metadata": {},
     "output_type": "display_data"
    },
    {
     "data": {
      "image/png": "[encoded data removed]",
      "text/plain": [
       "<Figure size 2880x2160 with 1 Axes>"
      ]
     },
     "metadata": {
      "needs_background": "light"
     },
     "output_type": "display_data"
    },
    {
     "data": {
      "text/plain": [
       "<Figure size 2880x2160 with 0 Axes>"
      ]
     },
     "execution_count": 134,
     "metadata": {},
     "output_type": "execute_result"
    },
    {
     "data": {
      "text/plain": [
       "(array([ 0.        ,  0.        ,  0.        ,  0.        ,  0.        ,\n",
       "         0.        ,  0.        ,  0.        ,  0.        ,  0.        ,\n",
       "         0.        ,  0.        ,  0.        ,  0.        ,  0.        ,\n",
       "         0.        ,  0.        ,  0.        ,  0.        ,  0.        ,\n",
       "         0.        ,  0.22977941,  0.        ,  0.45955882,  3.90625   ,\n",
       "         5.97426471,  8.27205882, 26.88419118, 20.90992647, 28.03308824,\n",
       "        33.31801471, 42.04963235, 42.73897059, 40.90073529, 45.95588235,\n",
       "        38.83272059,  0.        , 31.02022059, 26.88419118,  2.06801471,\n",
       "        16.31433824, 14.70588235,  0.        , 12.86764706,  0.        ,\n",
       "         8.27205882,  0.        ,  5.05514706,  0.22977941,  0.22977941,\n",
       "         5.51470588,  0.68933824,  3.21691176,  0.        ,  0.91911765,\n",
       "         1.83823529,  0.        ,  1.83823529,  2.98713235,  0.        ,\n",
       "         2.06801471,  0.        ,  4.82536765,  0.        ,  3.21691176,\n",
       "         0.        ,  2.98713235,  0.        ,  2.52757353,  0.        ,\n",
       "         0.        ,  2.75735294,  0.        ,  0.        ,  2.52757353,\n",
       "         0.22977941,  0.91911765,  0.        ,  0.22977941,  0.22977941,\n",
       "         0.91911765,  0.        ,  0.        ,  0.68933824,  0.        ,\n",
       "         0.        ,  0.        ,  0.        ,  0.22977941,  0.        ,\n",
       "         0.22977941,  0.        ,  0.        ,  0.45955882,  0.        ,\n",
       "         0.        ,  0.        ,  0.        ,  0.        ,  0.        ,\n",
       "         0.45955882,  0.        ,  0.        ,  0.45955882,  0.        ,\n",
       "         0.        ,  0.        ,  0.        ,  0.        ,  0.        ,\n",
       "         0.        ,  0.        ,  0.        ,  0.        ,  0.        ,\n",
       "         0.45955882,  0.        ,  0.        ,  0.        ,  0.        ,\n",
       "         0.22977941,  0.        ,  0.        ,  0.        ,  0.        ,\n",
       "         0.        ,  0.        ,  0.        ,  0.        ,  0.        ,\n",
       "         0.        ,  0.        ,  0.        ,  0.        ,  0.        ,\n",
       "         0.        ,  0.        ,  0.        ,  0.        ,  0.        ,\n",
       "         0.        ,  0.        ,  0.        ,  0.        ,  0.        ,\n",
       "         0.        ,  0.        ,  0.        ,  0.        ,  0.        ,\n",
       "         0.        ,  0.        ,  0.        ,  0.        ,  0.        ,\n",
       "         0.        ,  0.        ,  0.        ,  0.        ,  0.        ,\n",
       "         0.        ,  0.22977941,  0.        ,  0.        ,  0.        ,\n",
       "         0.        ,  0.        ,  0.        ,  0.        ,  0.        ,\n",
       "         0.        ,  0.        ,  0.        ,  0.        ,  0.        ,\n",
       "         0.        ,  0.        ,  0.        ,  0.        ,  0.        ,\n",
       "         0.        ,  0.        ,  0.        ,  0.        ,  0.        ,\n",
       "         0.        ,  0.        ,  0.        ,  0.        ,  0.        ,\n",
       "         0.        ,  0.        ,  0.        ,  0.        ,  0.        ,\n",
       "         0.        ,  0.        ,  0.        ,  0.        ,  0.        ,\n",
       "         0.        ,  0.        ,  0.        ,  0.        ,  0.        ,\n",
       "         0.        ,  0.        ,  0.        ,  0.        ,  0.        ,\n",
       "         0.        ,  0.        ,  0.        ,  0.        ,  0.        ,\n",
       "         0.        ,  0.        ,  0.        ,  0.        ,  0.        ,\n",
       "         0.        ,  0.        ,  0.        ,  0.        ,  0.        ,\n",
       "         0.        ,  0.        ,  0.        ,  0.        ,  0.        ,\n",
       "         0.        ,  0.        ,  0.        ,  0.        ,  0.        ,\n",
       "         0.        ,  0.        ,  0.        ,  0.        ,  0.        ,\n",
       "         0.        ,  0.        ,  0.        ,  0.        ,  0.        ,\n",
       "         0.        ,  0.        ,  0.        ,  0.        ,  0.        ,\n",
       "         0.        ,  0.        ,  0.        ,  0.        ,  0.        ,\n",
       "         0.        ,  0.        ,  0.        ,  0.        ,  0.        ,\n",
       "         0.        ,  0.        ,  0.        ,  0.        ,  0.        ,\n",
       "         0.        ,  0.        ,  0.        ,  0.        ,  0.        ,\n",
       "         0.        ,  0.        ,  0.        ,  0.        ,  0.        ,\n",
       "         0.        ,  0.        ,  0.        ,  0.        ,  0.        ,\n",
       "         0.        ,  0.        ,  0.        ,  0.        ,  0.        ,\n",
       "         0.        ,  0.        ,  0.        ,  0.        ,  0.        ,\n",
       "         0.        ,  0.        ,  0.        ,  0.        ,  0.        ,\n",
       "         0.        ,  0.        ,  0.        ,  0.        ,  0.        ,\n",
       "         0.        ,  0.        ,  0.        ,  0.        ,  0.        ,\n",
       "         0.        ,  0.        ,  0.        ,  0.        ,  0.        ,\n",
       "         0.        ,  0.        ,  0.        ,  0.        ,  0.        ,\n",
       "         0.        ,  0.        ,  0.        ,  0.        ,  0.        ,\n",
       "         0.        ,  0.        ,  0.        ,  0.        ,  0.        ,\n",
       "         0.        ,  0.        ,  0.        ,  0.        ,  0.        ,\n",
       "         0.        ,  0.        ,  0.        ,  0.        ,  0.        ,\n",
       "         0.        ,  0.        ,  0.        ,  0.        ,  0.        ,\n",
       "         0.        ,  0.        ,  0.        ,  0.        ,  0.        ,\n",
       "         0.        ,  0.        ,  0.        ,  0.        ,  0.        ,\n",
       "         0.        ,  0.        ,  0.        ,  0.        ,  0.        ,\n",
       "         0.        ,  0.        ,  0.        ,  0.        ,  0.        ,\n",
       "         0.        ,  0.        ,  0.        ,  0.        ,  0.        ,\n",
       "         0.        ,  0.        ,  0.        ,  0.        ,  0.        ,\n",
       "         0.        ,  0.        ,  0.        ,  0.        ,  0.        ,\n",
       "         0.        ,  0.        ,  0.        ,  0.        ,  0.        ,\n",
       "         0.        ,  0.        ,  0.        ,  0.        ,  0.        ,\n",
       "         0.        ,  0.        ,  0.        ,  0.        ,  0.        ,\n",
       "         0.        ,  0.        ,  0.        ,  0.        ,  0.        ,\n",
       "         0.        ,  0.        ,  0.        ,  0.        ,  0.        ,\n",
       "         0.        ,  0.        ,  0.        ,  0.        ,  0.        ,\n",
       "         0.        ,  0.        ,  0.        ,  0.        ,  0.        ,\n",
       "         0.        ,  0.        ,  0.        ,  0.        ,  0.        ,\n",
       "         0.        ,  0.        ,  0.        ,  0.        ,  0.        ,\n",
       "         0.        ,  0.        ,  0.        ,  0.        ,  0.        ,\n",
       "         0.        ,  0.        ,  0.        ,  0.        ,  0.        ,\n",
       "         0.        ,  0.        ,  0.        ,  0.        ,  0.        ,\n",
       "         0.        ,  0.        ,  0.        ,  0.        ,  0.        ,\n",
       "         0.        ,  0.        ,  0.        ,  0.        ,  0.        ,\n",
       "         0.        ,  0.        ,  0.        ,  0.        ,  0.        ,\n",
       "         0.        ,  0.        ,  0.        ,  0.        ,  0.        ,\n",
       "         0.        ,  0.        ,  0.        ,  0.        ,  0.        ,\n",
       "         0.        ,  0.        ,  0.        ,  0.        ,  0.        ,\n",
       "         0.        ,  0.        ,  0.        ,  0.        ,  0.        ,\n",
       "         0.        ,  0.        ,  0.        ,  0.        ,  0.        ,\n",
       "         0.        ,  0.        ,  0.        ,  0.        ,  0.        ,\n",
       "         0.        ,  0.        ,  0.        ,  0.        ,  0.        ,\n",
       "         0.        ,  0.        ,  0.        ,  0.        ,  0.        ,\n",
       "         0.        ,  0.        ,  0.        ,  0.        ,  0.        ,\n",
       "         0.        ,  0.        ,  0.        ,  0.        ]),\n",
       " array([0.   , 0.002, 0.004, 0.006, 0.008, 0.01 , 0.012, 0.014, 0.016,\n",
       "        0.018, 0.02 , 0.022, 0.024, 0.026, 0.028, 0.03 , 0.032, 0.034,\n",
       "        0.036, 0.038, 0.04 , 0.042, 0.044, 0.046, 0.048, 0.05 , 0.052,\n",
       "        0.054, 0.056, 0.058, 0.06 , 0.062, 0.064, 0.066, 0.068, 0.07 ,\n",
       "        0.072, 0.074, 0.076, 0.078, 0.08 , 0.082, 0.084, 0.086, 0.088,\n",
       "        0.09 , 0.092, 0.094, 0.096, 0.098, 0.1  , 0.102, 0.104, 0.106,\n",
       "        0.108, 0.11 , 0.112, 0.114, 0.116, 0.118, 0.12 , 0.122, 0.124,\n",
       "        0.126, 0.128, 0.13 , 0.132, 0.134, 0.136, 0.138, 0.14 , 0.142,\n",
       "        0.144, 0.146, 0.148, 0.15 , 0.152, 0.154, 0.156, 0.158, 0.16 ,\n",
       "        0.162, 0.164, 0.166, 0.168, 0.17 , 0.172, 0.174, 0.176, 0.178,\n",
       "        0.18 , 0.182, 0.184, 0.186, 0.188, 0.19 , 0.192, 0.194, 0.196,\n",
       "        0.198, 0.2  , 0.202, 0.204, 0.206, 0.208, 0.21 , 0.212, 0.214,\n",
       "        0.216, 0.218, 0.22 , 0.222, 0.224, 0.226, 0.228, 0.23 , 0.232,\n",
       "        0.234, 0.236, 0.238, 0.24 , 0.242, 0.244, 0.246, 0.248, 0.25 ,\n",
       "        0.252, 0.254, 0.256, 0.258, 0.26 , 0.262, 0.264, 0.266, 0.268,\n",
       "        0.27 , 0.272, 0.274, 0.276, 0.278, 0.28 , 0.282, 0.284, 0.286,\n",
       "        0.288, 0.29 , 0.292, 0.294, 0.296, 0.298, 0.3  , 0.302, 0.304,\n",
       "        0.306, 0.308, 0.31 , 0.312, 0.314, 0.316, 0.318, 0.32 , 0.322,\n",
       "        0.324, 0.326, 0.328, 0.33 , 0.332, 0.334, 0.336, 0.338, 0.34 ,\n",
       "        0.342, 0.344, 0.346, 0.348, 0.35 , 0.352, 0.354, 0.356, 0.358,\n",
       "        0.36 , 0.362, 0.364, 0.366, 0.368, 0.37 , 0.372, 0.374, 0.376,\n",
       "        0.378, 0.38 , 0.382, 0.384, 0.386, 0.388, 0.39 , 0.392, 0.394,\n",
       "        0.396, 0.398, 0.4  , 0.402, 0.404, 0.406, 0.408, 0.41 , 0.412,\n",
       "        0.414, 0.416, 0.418, 0.42 , 0.422, 0.424, 0.426, 0.428, 0.43 ,\n",
       "        0.432, 0.434, 0.436, 0.438, 0.44 , 0.442, 0.444, 0.446, 0.448,\n",
       "        0.45 , 0.452, 0.454, 0.456, 0.458, 0.46 , 0.462, 0.464, 0.466,\n",
       "        0.468, 0.47 , 0.472, 0.474, 0.476, 0.478, 0.48 , 0.482, 0.484,\n",
       "        0.486, 0.488, 0.49 , 0.492, 0.494, 0.496, 0.498, 0.5  , 0.502,\n",
       "        0.504, 0.506, 0.508, 0.51 , 0.512, 0.514, 0.516, 0.518, 0.52 ,\n",
       "        0.522, 0.524, 0.526, 0.528, 0.53 , 0.532, 0.534, 0.536, 0.538,\n",
       "        0.54 , 0.542, 0.544, 0.546, 0.548, 0.55 , 0.552, 0.554, 0.556,\n",
       "        0.558, 0.56 , 0.562, 0.564, 0.566, 0.568, 0.57 , 0.572, 0.574,\n",
       "        0.576, 0.578, 0.58 , 0.582, 0.584, 0.586, 0.588, 0.59 , 0.592,\n",
       "        0.594, 0.596, 0.598, 0.6  , 0.602, 0.604, 0.606, 0.608, 0.61 ,\n",
       "        0.612, 0.614, 0.616, 0.618, 0.62 , 0.622, 0.624, 0.626, 0.628,\n",
       "        0.63 , 0.632, 0.634, 0.636, 0.638, 0.64 , 0.642, 0.644, 0.646,\n",
       "        0.648, 0.65 , 0.652, 0.654, 0.656, 0.658, 0.66 , 0.662, 0.664,\n",
       "        0.666, 0.668, 0.67 , 0.672, 0.674, 0.676, 0.678, 0.68 , 0.682,\n",
       "        0.684, 0.686, 0.688, 0.69 , 0.692, 0.694, 0.696, 0.698, 0.7  ,\n",
       "        0.702, 0.704, 0.706, 0.708, 0.71 , 0.712, 0.714, 0.716, 0.718,\n",
       "        0.72 , 0.722, 0.724, 0.726, 0.728, 0.73 , 0.732, 0.734, 0.736,\n",
       "        0.738, 0.74 , 0.742, 0.744, 0.746, 0.748, 0.75 , 0.752, 0.754,\n",
       "        0.756, 0.758, 0.76 , 0.762, 0.764, 0.766, 0.768, 0.77 , 0.772,\n",
       "        0.774, 0.776, 0.778, 0.78 , 0.782, 0.784, 0.786, 0.788, 0.79 ,\n",
       "        0.792, 0.794, 0.796, 0.798, 0.8  , 0.802, 0.804, 0.806, 0.808,\n",
       "        0.81 , 0.812, 0.814, 0.816, 0.818, 0.82 , 0.822, 0.824, 0.826,\n",
       "        0.828, 0.83 , 0.832, 0.834, 0.836, 0.838, 0.84 , 0.842, 0.844,\n",
       "        0.846, 0.848, 0.85 , 0.852, 0.854, 0.856, 0.858, 0.86 , 0.862,\n",
       "        0.864, 0.866, 0.868, 0.87 , 0.872, 0.874, 0.876, 0.878, 0.88 ,\n",
       "        0.882, 0.884, 0.886, 0.888, 0.89 , 0.892, 0.894, 0.896, 0.898,\n",
       "        0.9  , 0.902, 0.904, 0.906, 0.908, 0.91 , 0.912, 0.914, 0.916,\n",
       "        0.918, 0.92 , 0.922, 0.924, 0.926, 0.928, 0.93 , 0.932, 0.934,\n",
       "        0.936, 0.938, 0.94 , 0.942, 0.944, 0.946, 0.948, 0.95 , 0.952,\n",
       "        0.954, 0.956, 0.958, 0.96 , 0.962, 0.964, 0.966, 0.968, 0.97 ,\n",
       "        0.972, 0.974, 0.976, 0.978, 0.98 , 0.982, 0.984, 0.986, 0.988,\n",
       "        0.99 , 0.992, 0.994, 0.996, 0.998]),\n",
       " <a list of 499 Patch objects>)"
      ]
     },
     "execution_count": 134,
     "metadata": {},
     "output_type": "execute_result"
    },
    {
     "name": "stderr",
     "output_type": "stream",
     "text": [
      "No handles with labels found to put in legend.\n"
     ]
    },
    {
     "data": {
      "text/plain": [
       "<matplotlib.legend.Legend at 0x1d2cea38988>"
      ]
     },
     "execution_count": 134,
     "metadata": {},
     "output_type": "execute_result"
    },
    {
     "data": {
      "text/plain": [
       "Text(0.5, 0, 'salary-group')"
      ]
     },
     "execution_count": 134,
     "metadata": {},
     "output_type": "execute_result"
    },
    {
     "data": {
      "text/plain": [
       "Text(0, 0.5, 'salary')"
      ]
     },
     "execution_count": 134,
     "metadata": {},
     "output_type": "execute_result"
    },
    {
     "data": {
      "text/plain": [
       "Text(0.5, 1.0, 'Hist')"
      ]
     },
     "execution_count": 134,
     "metadata": {},
     "output_type": "execute_result"
    },
    {
     "data": {
      "text/plain": [
       "<Figure size 432x288 with 0 Axes>"
      ]
     },
     "metadata": {},
     "output_type": "display_data"
    },
    {
     "data": {
      "image/png": "[encoded data removed]",
      "text/plain": [
       "<Figure size 2880x2160 with 1 Axes>"
      ]
     },
     "metadata": {
      "needs_background": "light"
     },
     "output_type": "display_data"
    },
    {
     "data": {
      "text/plain": [
       "<Figure size 432x288 with 0 Axes>"
      ]
     },
     "metadata": {},
     "output_type": "display_data"
    }
   ],
   "source": [
    "%matplotlib inline\n",
    "import numpy as np\n",
    "import pandas as pd\n",
    "from scipy import stats, integrate\n",
    "import seaborn as sns\n",
    "import matplotlib.pyplot as plt\n",
    "\n",
    "from pandas.core.frame import DataFrame\n",
    "# a=[1,2,3,4]#列表a\n",
    "# b=[5,6,7,8]#列表b\n",
    "# c={\"a\" : a,\n",
    "#    \"b\" : b}#将列表a，b转换成字典\n",
    "# data=DataFrame(c)#将字典转换成为数据框\n",
    "# print(data)\n",
    "for index in range(1, 8):\n",
    "    x = list()\n",
    "    for i in log_res[index]:\n",
    "        if i.split()[0] != '0':\n",
    "            x.append(float(i.split()[0]))\n",
    "#     data = [[0] for i in range(50)]\n",
    "#     for r in x:\n",
    "#         k = int(r / 0.02)\n",
    "#         data[k][0] += 1\n",
    "#     x = [f[0] for f in data]\n",
    "    plt.figure(figsize=(40.0, 30.0))\n",
    "    group = list(range(0, 500))\n",
    "    group = [i / 500 for i in group]\n",
    "    plt.hist(x, group, histtype='bar', rwidth=0.5, density=True)\n",
    "    plt.legend()\n",
    "    plt.xlabel('salary-group')\n",
    "    plt.ylabel('salary')\n",
    "    plt.title(u'Hist')\n",
    "    plt.show()\n",
    "    plt.savefig(\"log_res_rouge1_hist_{}.PNG\".format(index))\n",
    "    # x = np.array(x)\n",
    "    # x = pd.Series(x, name=\"log_res_rouge1_{}.PNG\".format(index))\n",
    "    # plt.figure(figsize=(160.0, 120.0))\n",
    "    # sns.set_palette(\"hls\")\n",
    "    # data = x\n",
    "    # sns.distplot(data)\n",
    "    # sns.distplot(data, kde=True, rug=False, hist=True)\n",
    "    # # 更细致的, 来用各kwargs来指定 (参数的参数dict)\n",
    "    # sns.distplot(data, kde_kws={\"color\": \"seagreen\", \"lw\":3, \"label\" : \"KDE\" }, \n",
    "    #              hist_kws={\"histtype\": \"stepfilled\", \"color\": \"slategray\" })\n",
    "\n",
    "    # d = {'rouge': x}\n",
    "    # data = DataFrame(d)\n",
    "    # x = data\n",
    "    # plt.figure(figsize=(160.0, 120.0))\n",
    "    # # sns.distplot(x, hist=False, color='red', kde=False, fit=stats.gamma)\n",
    "    # sns.kdeplot(x, shade=True, color=\"r\")\n",
    "    # plt.savefig(\"log_res_rouge1_{}.PNG\".format(index))\n"
   ]
  },
  {
   "cell_type": "code",
   "execution_count": 74,
   "metadata": {},
   "outputs": [],
   "source": [
    "# plt.figure(figsize=(160.0, 120.0))\n",
    "# sns.set_palette(\"hls\")\n",
    "# # plt.rc(\"figure\", figsize=(9, 5))\n",
    "# data = randn(200)\n",
    "# sns.distplot(data)\n",
    "# sns.distplot(data, kde=True, rug=False, hist=True)\n",
    "# # 更细致的, 来用各kwargs来指定 (参数的参数dict)\n",
    "# sns.distplot(data, kde_kws={\"color\": \"seagreen\", \"lw\":3, \"label\" : \"KDE\" }, \n",
    "#              hist_kws={\"histtype\": \"stepfilled\", \"color\": \"slategray\" })\n",
    "\n",
    "\n",
    "# import seaborn as sns\n",
    "# import numpy as np\n",
    "# from numpy.random import randn\n",
    "# import matplotlib as mpl\n",
    "# import matplotlib.pyplot as plt\n",
    "# from scipy import stats\n",
    "\n",
    "\n",
    "# sns.set_palette(\"hls\")\n",
    "# mpl.rc(\"figure\", figsize=(9, 5))\n",
    "# data = randn(200)\n",
    "# data = x\n",
    "# sns.distplot(data)\n",
    "# sns.distplot(data, kde=True, rug=False, hist=True)\n",
    "# # 更细致的, 来用各kwargs来指定 (参数的参数dict)\n",
    "# sns.distplot(data, kde_kws={\"color\": \"seagreen\", \"lw\": 3, \"label\": \"KDE\"},\n",
    "#              hist_kws={\"histtype\": \"stepfilled\", \"color\": \"slategray\"})\n",
    "\n",
    "# x\n",
    "# data = [[0] for i in range(50)]\n",
    "# for r in x:\n",
    "#     k = int(r / 0.02)\n",
    "#     data[k][0] += 1\n",
    "# print(data)\n",
    "#     x = [f for f in data]"
   ]
  },
  {
   "cell_type": "code",
   "execution_count": 110,
   "metadata": {},
   "outputs": [
    {
     "data": {
      "text/plain": [
       "[0, 1, 2, 3, 4, 5, 6, 7, 8, 9]"
      ]
     },
     "execution_count": 110,
     "metadata": {},
     "output_type": "execute_result"
    },
    {
     "data": {
      "text/plain": [
       "(array([ 0.        ,  0.        ,  0.        ,  0.        ,  0.91911765,\n",
       "        18.01470588, 40.99264706, 19.76102941,  8.77757353,  2.75735294,\n",
       "         2.06801471,  1.33272059,  2.02205882,  1.10294118,  1.05698529,\n",
       "         0.32169118,  0.32169118,  0.04595588,  0.13786765,  0.        ,\n",
       "         0.18382353,  0.        ,  0.        ,  0.09191176,  0.04595588,\n",
       "         0.        ,  0.        ,  0.        ,  0.        ,  0.        ,\n",
       "         0.        ,  0.        ,  0.04595588,  0.        ,  0.        ,\n",
       "         0.        ,  0.        ,  0.        ,  0.        ,  0.        ,\n",
       "         0.        ,  0.        ,  0.        ,  0.        ,  0.        ,\n",
       "         0.        ,  0.        ,  0.        ,  0.        ,  0.        ,\n",
       "         0.        ,  0.        ,  0.        ,  0.        ,  0.        ,\n",
       "         0.        ,  0.        ,  0.        ,  0.        ,  0.        ,\n",
       "         0.        ,  0.        ,  0.        ,  0.        ,  0.        ,\n",
       "         0.        ,  0.        ,  0.        ,  0.        ,  0.        ,\n",
       "         0.        ,  0.        ,  0.        ,  0.        ,  0.        ,\n",
       "         0.        ,  0.        ,  0.        ,  0.        ,  0.        ,\n",
       "         0.        ,  0.        ,  0.        ,  0.        ,  0.        ,\n",
       "         0.        ,  0.        ,  0.        ,  0.        ,  0.        ,\n",
       "         0.        ,  0.        ,  0.        ,  0.        ,  0.        ,\n",
       "         0.        ,  0.        ,  0.        ,  0.        ]),\n",
       " array([0.  , 0.01, 0.02, 0.03, 0.04, 0.05, 0.06, 0.07, 0.08, 0.09, 0.1 ,\n",
       "        0.11, 0.12, 0.13, 0.14, 0.15, 0.16, 0.17, 0.18, 0.19, 0.2 , 0.21,\n",
       "        0.22, 0.23, 0.24, 0.25, 0.26, 0.27, 0.28, 0.29, 0.3 , 0.31, 0.32,\n",
       "        0.33, 0.34, 0.35, 0.36, 0.37, 0.38, 0.39, 0.4 , 0.41, 0.42, 0.43,\n",
       "        0.44, 0.45, 0.46, 0.47, 0.48, 0.49, 0.5 , 0.51, 0.52, 0.53, 0.54,\n",
       "        0.55, 0.56, 0.57, 0.58, 0.59, 0.6 , 0.61, 0.62, 0.63, 0.64, 0.65,\n",
       "        0.66, 0.67, 0.68, 0.69, 0.7 , 0.71, 0.72, 0.73, 0.74, 0.75, 0.76,\n",
       "        0.77, 0.78, 0.79, 0.8 , 0.81, 0.82, 0.83, 0.84, 0.85, 0.86, 0.87,\n",
       "        0.88, 0.89, 0.9 , 0.91, 0.92, 0.93, 0.94, 0.95, 0.96, 0.97, 0.98,\n",
       "        0.99]),\n",
       " <a list of 99 Patch objects>)"
      ]
     },
     "execution_count": 110,
     "metadata": {},
     "output_type": "execute_result"
    },
    {
     "name": "stderr",
     "output_type": "stream",
     "text": [
      "No handles with labels found to put in legend.\n"
     ]
    },
    {
     "data": {
      "text/plain": [
       "<matplotlib.legend.Legend at 0x1d25e224c08>"
      ]
     },
     "execution_count": 110,
     "metadata": {},
     "output_type": "execute_result"
    },
    {
     "data": {
      "text/plain": [
       "Text(0.5, 0, 'salary-group')"
      ]
     },
     "execution_count": 110,
     "metadata": {},
     "output_type": "execute_result"
    },
    {
     "data": {
      "text/plain": [
       "Text(0, 0.5, 'salary')"
      ]
     },
     "execution_count": 110,
     "metadata": {},
     "output_type": "execute_result"
    },
    {
     "data": {
      "text/plain": [
       "Text(0.5, 1.0, 'Hist')"
      ]
     },
     "execution_count": 110,
     "metadata": {},
     "output_type": "execute_result"
    },
    {
     "data": {
      "image/png": "[encoded data removed]",
      "text/plain": [
       "<Figure size 648x360 with 1 Axes>"
      ]
     },
     "metadata": {
      "needs_background": "light"
     },
     "output_type": "display_data"
    }
   ],
   "source": [
    "l = list(range(0, 10))\n",
    "l\n",
    "salary = list()\n",
    "for i in range(0, 10):\n",
    "    for j in range(0, 10):\n",
    "        salary.append(i * j)\n",
    "# x\n",
    "group = list(range(0, 100))\n",
    "group = [i / 100 for i in group]\n",
    "# plt.hist(salary, group, histtype='bar', rwidth=0.5)\n",
    "plt.hist(x, group, histtype='bar', rwidth=0.5, density=True)\n",
    "\n",
    "plt.legend()\n",
    "plt.xlabel('salary-group')\n",
    "plt.ylabel('salary')\n",
    "\n",
    "plt.title(u'Hist')\n",
    "\n",
    "plt.show()"
   ]
  },
  {
   "cell_type": "code",
   "execution_count": 81,
   "metadata": {},
   "outputs": [
    {
     "name": "stdout",
     "output_type": "stream",
     "text": [
      "Help on function hist in module matplotlib.pyplot:\n",
      "\n",
      "hist(x, bins=None, range=None, density=None, weights=None, cumulative=False, bottom=None, histtype='bar', align='mid', orientation='vertical', rwidth=None, log=False, color=None, label=None, stacked=False, normed=None, *, data=None, **kwargs)\n",
      "    Plot a histogram.\n",
      "    \n",
      "    Compute and draw the histogram of *x*. The return value is a\n",
      "    tuple (*n*, *bins*, *patches*) or ([*n0*, *n1*, ...], *bins*,\n",
      "    [*patches0*, *patches1*,...]) if the input contains multiple\n",
      "    data.\n",
      "    \n",
      "    Multiple data can be provided via *x* as a list of datasets\n",
      "    of potentially different length ([*x0*, *x1*, ...]), or as\n",
      "    a 2-D ndarray in which each column is a dataset.  Note that\n",
      "    the ndarray form is transposed relative to the list form.\n",
      "    \n",
      "    Masked arrays are not supported at present.\n",
      "    \n",
      "    Parameters\n",
      "    ----------\n",
      "    x : (n,) array or sequence of (n,) arrays\n",
      "        Input values, this takes either a single array or a sequence of\n",
      "        arrays which are not required to be of the same length.\n",
      "    \n",
      "    bins : int or sequence or str, optional\n",
      "        If an integer is given, ``bins + 1`` bin edges are calculated and\n",
      "        returned, consistent with `numpy.histogram`.\n",
      "    \n",
      "        If `bins` is a sequence, gives bin edges, including left edge of\n",
      "        first bin and right edge of last bin.  In this case, `bins` is\n",
      "        returned unmodified.\n",
      "    \n",
      "        All but the last (righthand-most) bin is half-open.  In other\n",
      "        words, if `bins` is::\n",
      "    \n",
      "            [1, 2, 3, 4]\n",
      "    \n",
      "        then the first bin is ``[1, 2)`` (including 1, but excluding 2) and\n",
      "        the second ``[2, 3)``.  The last bin, however, is ``[3, 4]``, which\n",
      "        *includes* 4.\n",
      "    \n",
      "        Unequally spaced bins are supported if *bins* is a sequence.\n",
      "    \n",
      "        With Numpy 1.11 or newer, you can alternatively provide a string\n",
      "        describing a binning strategy, such as 'auto', 'sturges', 'fd',\n",
      "        'doane', 'scott', 'rice', 'sturges' or 'sqrt', see\n",
      "        `numpy.histogram`.\n",
      "    \n",
      "        The default is taken from :rc:`hist.bins`.\n",
      "    \n",
      "    range : tuple or None, optional\n",
      "        The lower and upper range of the bins. Lower and upper outliers\n",
      "        are ignored. If not provided, *range* is ``(x.min(), x.max())``.\n",
      "        Range has no effect if *bins* is a sequence.\n",
      "    \n",
      "        If *bins* is a sequence or *range* is specified, autoscaling\n",
      "        is based on the specified bin range instead of the\n",
      "        range of x.\n",
      "    \n",
      "        Default is ``None``\n",
      "    \n",
      "    density : bool, optional\n",
      "        If ``True``, the first element of the return tuple will\n",
      "        be the counts normalized to form a probability density, i.e.,\n",
      "        the area (or integral) under the histogram will sum to 1.\n",
      "        This is achieved by dividing the count by the number of\n",
      "        observations times the bin width and not dividing by the total\n",
      "        number of observations. If *stacked* is also ``True``, the sum of\n",
      "        the histograms is normalized to 1.\n",
      "    \n",
      "        Default is ``None`` for both *normed* and *density*. If either is\n",
      "        set, then that value will be used. If neither are set, then the\n",
      "        args will be treated as ``False``.\n",
      "    \n",
      "        If both *density* and *normed* are set an error is raised.\n",
      "    \n",
      "    weights : (n, ) array_like or None, optional\n",
      "        An array of weights, of the same shape as *x*.  Each value in *x*\n",
      "        only contributes its associated weight towards the bin count\n",
      "        (instead of 1).  If *normed* or *density* is ``True``,\n",
      "        the weights are normalized, so that the integral of the density\n",
      "        over the range remains 1.\n",
      "    \n",
      "        Default is ``None``\n",
      "    \n",
      "    cumulative : bool, optional\n",
      "        If ``True``, then a histogram is computed where each bin gives the\n",
      "        counts in that bin plus all bins for smaller values. The last bin\n",
      "        gives the total number of datapoints. If *normed* or *density*\n",
      "        is also ``True`` then the histogram is normalized such that the\n",
      "        last bin equals 1. If *cumulative* evaluates to less than 0\n",
      "        (e.g., -1), the direction of accumulation is reversed.\n",
      "        In this case, if *normed* and/or *density* is also ``True``, then\n",
      "        the histogram is normalized such that the first bin equals 1.\n",
      "    \n",
      "        Default is ``False``\n",
      "    \n",
      "    bottom : array_like, scalar, or None\n",
      "        Location of the bottom baseline of each bin.  If a scalar,\n",
      "        the base line for each bin is shifted by the same amount.\n",
      "        If an array, each bin is shifted independently and the length\n",
      "        of bottom must match the number of bins.  If None, defaults to 0.\n",
      "    \n",
      "        Default is ``None``\n",
      "    \n",
      "    histtype : {'bar', 'barstacked', 'step',  'stepfilled'}, optional\n",
      "        The type of histogram to draw.\n",
      "    \n",
      "        - 'bar' is a traditional bar-type histogram.  If multiple data\n",
      "          are given the bars are arranged side by side.\n",
      "    \n",
      "        - 'barstacked' is a bar-type histogram where multiple\n",
      "          data are stacked on top of each other.\n",
      "    \n",
      "        - 'step' generates a lineplot that is by default\n",
      "          unfilled.\n",
      "    \n",
      "        - 'stepfilled' generates a lineplot that is by default\n",
      "          filled.\n",
      "    \n",
      "        Default is 'bar'\n",
      "    \n",
      "    align : {'left', 'mid', 'right'}, optional\n",
      "        Controls how the histogram is plotted.\n",
      "    \n",
      "            - 'left': bars are centered on the left bin edges.\n",
      "    \n",
      "            - 'mid': bars are centered between the bin edges.\n",
      "    \n",
      "            - 'right': bars are centered on the right bin edges.\n",
      "    \n",
      "        Default is 'mid'\n",
      "    \n",
      "    orientation : {'horizontal', 'vertical'}, optional\n",
      "        If 'horizontal', `~matplotlib.pyplot.barh` will be used for\n",
      "        bar-type histograms and the *bottom* kwarg will be the left edges.\n",
      "    \n",
      "    rwidth : scalar or None, optional\n",
      "        The relative width of the bars as a fraction of the bin width.  If\n",
      "        ``None``, automatically compute the width.\n",
      "    \n",
      "        Ignored if *histtype* is 'step' or 'stepfilled'.\n",
      "    \n",
      "        Default is ``None``\n",
      "    \n",
      "    log : bool, optional\n",
      "        If ``True``, the histogram axis will be set to a log scale. If\n",
      "        *log* is ``True`` and *x* is a 1D array, empty bins will be\n",
      "        filtered out and only the non-empty ``(n, bins, patches)``\n",
      "        will be returned.\n",
      "    \n",
      "        Default is ``False``\n",
      "    \n",
      "    color : color or array_like of colors or None, optional\n",
      "        Color spec or sequence of color specs, one per dataset.  Default\n",
      "        (``None``) uses the standard line color sequence.\n",
      "    \n",
      "        Default is ``None``\n",
      "    \n",
      "    label : str or None, optional\n",
      "        String, or sequence of strings to match multiple datasets.  Bar\n",
      "        charts yield multiple patches per dataset, but only the first gets\n",
      "        the label, so that the legend command will work as expected.\n",
      "    \n",
      "        default is ``None``\n",
      "    \n",
      "    stacked : bool, optional\n",
      "        If ``True``, multiple data are stacked on top of each other If\n",
      "        ``False`` multiple data are arranged side by side if histtype is\n",
      "        'bar' or on top of each other if histtype is 'step'\n",
      "    \n",
      "        Default is ``False``\n",
      "    \n",
      "    normed : bool, optional\n",
      "        Deprecated; use the density keyword argument instead.\n",
      "    \n",
      "    Returns\n",
      "    -------\n",
      "    n : array or list of arrays\n",
      "        The values of the histogram bins. See *normed* or *density*\n",
      "        and *weights* for a description of the possible semantics.\n",
      "        If input *x* is an array, then this is an array of length\n",
      "        *nbins*. If input is a sequence of arrays\n",
      "        ``[data1, data2,..]``, then this is a list of arrays with\n",
      "        the values of the histograms for each of the arrays in the\n",
      "        same order.\n",
      "    \n",
      "    bins : array\n",
      "        The edges of the bins. Length nbins + 1 (nbins left edges and right\n",
      "        edge of last bin).  Always a single array even when multiple data\n",
      "        sets are passed in.\n",
      "    \n",
      "    patches : list or list of lists\n",
      "        Silent list of individual patches used to create the histogram\n",
      "        or list of such list if multiple input datasets.\n",
      "    \n",
      "    Other Parameters\n",
      "    ----------------\n",
      "    **kwargs : `~matplotlib.patches.Patch` properties\n",
      "    \n",
      "    See also\n",
      "    --------\n",
      "    hist2d : 2D histograms\n",
      "    \n",
      "    Notes\n",
      "    -----\n",
      "    .. [Notes section required for data comment. See #10189.]\n",
      "    \n",
      "    .. note::\n",
      "        In addition to the above described arguments, this function can take a\n",
      "        **data** keyword argument. If such a **data** argument is given, the\n",
      "        following arguments are replaced by **data[<arg>]**:\n",
      "    \n",
      "        * All arguments with the following names: 'weights', 'x'.\n",
      "    \n",
      "        Objects passed as **data** must support item access (``data[<arg>]``) and\n",
      "        membership test (``<arg> in data``).\n",
      "\n"
     ]
    }
   ],
   "source": [
    "help(plt.hist)"
   ]
  },
  {
   "cell_type": "code",
   "execution_count": 162,
   "metadata": {
    "scrolled": false
   },
   "outputs": [
    {
     "name": "stdout",
     "output_type": "stream",
     "text": [
      "(0.3699853648088237, 0.26494937270876223, 0.3469432863363428)\n",
      "0.370 | 0.265 | 0.347 | \n",
      "\n"
     ]
    }
   ],
   "source": [
    "rankres = list()\n",
    "with open('./rankres.txt', 'r') as f:\n",
    "    rankres = f.readlines()\n",
    "\n",
    "# print(analyze_raw(rankres), end='\\t')\n",
    "print(analyze_nan_stripped(rankres))\n",
    "\n",
    "for score in analyze_nan_stripped(rankres):\n",
    "    print(\"%.3f\" % (score), end=' | ')\n",
    "print('\\n')"
   ]
  },
  {
   "cell_type": "code",
   "execution_count": null,
   "metadata": {},
   "outputs": [],
   "source": []
  }
 ],
 "metadata": {
  "kernelspec": {
   "display_name": "Python 3",
   "language": "python",
   "name": "python3"
  },
  "language_info": {
   "codemirror_mode": {
    "name": "ipython",
    "version": 3
   },
   "file_extension": ".py",
   "mimetype": "text/x-python",
   "name": "python",
   "nbconvert_exporter": "python",
   "pygments_lexer": "ipython3",
   "version": "3.7.4"
  },
  "toc": {
   "base_numbering": 1,
   "nav_menu": {},
   "number_sections": true,
   "sideBar": true,
   "skip_h1_title": false,
   "title_cell": "Table of Contents",
   "title_sidebar": "Contents",
   "toc_cell": false,
   "toc_position": {},
   "toc_section_display": true,
   "toc_window_display": false
  }
 },
 "nbformat": 4,
 "nbformat_minor": 2
}
